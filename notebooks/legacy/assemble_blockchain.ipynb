{
 "cells": [
  {
   "cell_type": "code",
   "execution_count": 1,
   "metadata": {},
   "outputs": [
    {
     "name": "stderr",
     "output_type": "stream",
     "text": [
      "/home/srujanm/anaconda2/envs/em/lib/python2.7/site-packages/h5py/__init__.py:36: FutureWarning: Conversion of the second argument of issubdtype from `float` to `np.floating` is deprecated. In future, it will be treated as `np.float64 == np.dtype(float).type`.\n",
      "  from ._conv import register_converters as _register_converters\n"
     ]
    }
   ],
   "source": [
    "import json\n",
    "import time\n",
    "import math\n",
    "from cerebellum.data_prep.seg_prep import *\n",
    "\n",
    "resolution = (30, 48, 48)\n",
    "block_size = 60\n",
    "affinity_offset = 14\n",
    "wz_thresh = 0.5\n",
    "n_blocks = 15\n",
    "block_ids = range(0,n_blocks)\n",
    "block_shape = (block_size*n_blocks, 540, 489)\n",
    "superblock_steps = [2, 4, 8, 12, 16] # save after assembling these many blocks"
   ]
  },
  {
   "cell_type": "code",
   "execution_count": 2,
   "metadata": {},
   "outputs": [
    {
     "name": "stdout",
     "output_type": "stream",
     "text": [
      "Appending the 0th block: waterz0.50-48nm-crop2gt-0014\n",
      "Finished reading block\n",
      "Finished operations with block 0 in 0.819967 seconds\n",
      "Appending the 1th block: waterz0.50-48nm-crop2gt-0074\n",
      "Finished reading block\n",
      "Finished operations with block 1 in 0.789091 seconds\n",
      "Saving superblock with 2 blocks\n",
      "Appending the 2th block: waterz0.50-48nm-crop2gt-0134\n",
      "Finished reading block\n",
      "Finished operations with block 2 in 0.782283 seconds\n",
      "Appending the 3th block: waterz0.50-48nm-crop2gt-0194\n",
      "Finished reading block\n",
      "Finished operations with block 3 in 0.792756 seconds\n",
      "Saving superblock with 4 blocks\n",
      "Appending the 4th block: waterz0.50-48nm-crop2gt-0254\n",
      "Finished reading block\n",
      "Finished operations with block 4 in 0.804029 seconds\n",
      "Appending the 5th block: waterz0.50-48nm-crop2gt-0314\n",
      "Finished reading block\n",
      "Finished operations with block 5 in 0.964636 seconds\n",
      "Appending the 6th block: waterz0.50-48nm-crop2gt-0374\n",
      "Finished reading block\n",
      "Finished operations with block 6 in 0.799826 seconds\n",
      "Appending the 7th block: waterz0.50-48nm-crop2gt-0434\n",
      "Finished reading block\n",
      "Finished operations with block 7 in 0.822057 seconds\n",
      "Saving superblock with 8 blocks\n",
      "Appending the 8th block: waterz0.50-48nm-crop2gt-0494\n",
      "Finished reading block\n",
      "Finished operations with block 8 in 0.827042 seconds\n",
      "Appending the 9th block: waterz0.50-48nm-crop2gt-0554\n",
      "Finished reading block\n",
      "Finished operations with block 9 in 0.792457 seconds\n",
      "Appending the 10th block: waterz0.50-48nm-crop2gt-0614\n",
      "Finished reading block\n",
      "Finished operations with block 10 in 0.761486 seconds\n",
      "Appending the 11th block: waterz0.50-48nm-crop2gt-0674\n",
      "Finished reading block\n",
      "Finished operations with block 11 in 0.773130 seconds\n",
      "Saving superblock with 12 blocks\n",
      "Appending the 12th block: waterz0.50-48nm-crop2gt-0734\n",
      "Finished reading block\n",
      "Finished operations with block 12 in 0.753703 seconds\n",
      "Appending the 13th block: waterz0.50-48nm-crop2gt-0794\n",
      "Finished reading block\n",
      "Finished operations with block 13 in 0.745854 seconds\n",
      "Appending the 14th block: waterz0.50-48nm-crop2gt-0854\n",
      "Finished reading block\n",
      "Finished operations with block 14 in 0.754138 seconds\n",
      "Completed assembling superblocks. Total runtime: 11.982455\n"
     ]
    }
   ],
   "source": [
    "# assemble linearly generated blockchain linked to 0 block\n",
    "save_folder = './superblocks/'\n",
    "create_folder(save_folder)\n",
    "save_fname = 'waterz%.2f-48nm-crop2gt-linear-superblock'%(wz_thresh)\n",
    "total_runtime = 0\n",
    "superblock = np.zeros(block_shape, dtype=np.uint32) \n",
    "for block_id in block_ids:\n",
    "    block_time = time.time()\n",
    "    zz = block_id*block_size + affinity_offset\n",
    "    block_name = \"waterz%.2f-48nm-crop2gt-%04d\"%(wz_thresh, zz)\n",
    "    print \"Appending the %dth block: \"%(block_id) + block_name\n",
    "    block = SegPrep(block_name, resolution)\n",
    "    if block_id==0: block.read_internal(stage=\"filtered\")\n",
    "    else: block.read_internal(stage=\"locked-to-0\")\n",
    "    print \"Finished reading block\"\n",
    "    superblock[block_id*block_size:(block_id+1)*block_size,\n",
    "               :,:] = block.data\n",
    "    block_runtime = time.time()-block_time\n",
    "    print \"Finished operations with block %d in %f seconds\"%(block_id, block_runtime)\n",
    "    total_runtime += block_runtime\n",
    "    if block_id+1 in superblock_steps:\n",
    "        print \"Saving superblock with %d blocks\"%(block_id+1)\n",
    "        writeh5(save_folder+save_fname+ '-%dblocks.h5'%(block_id+1), 'main', \n",
    "                superblock[:(block_id+1)*block_size,:,:], compression='gzip')\n",
    "print \"Completed assembling superblocks. Total runtime: %f\"%(total_runtime)"
   ]
  },
  {
   "cell_type": "code",
   "execution_count": 4,
   "metadata": {},
   "outputs": [
    {
     "name": "stdout",
     "output_type": "stream",
     "text": [
      "(900, 540, 489)\n",
      "Generating downsampled full superblock for ng visualization\n"
     ]
    }
   ],
   "source": [
    "# generate downsampled full superblock for visualization\n",
    "resolution_vis = (96,96,30)\n",
    "superblock_vis = superblock\n",
    "print superblock_vis.shape\n",
    "print \"Generating downsampled full superblock for ng visualization\"\n",
    "# zero every 3rd z-slice, so effective z-resolution is 90nm\n",
    "for z in range(0,superblock_vis.shape[0],3):\n",
    "    superblock_vis[z,:,:] = 0\n",
    "writeh5(save_folder+save_fname+'_vis.h5', 'main', superblock_vis, compression=\"gzip\")"
   ]
  }
 ],
 "metadata": {
  "kernelspec": {
   "display_name": "em",
   "language": "python",
   "name": "em"
  },
  "language_info": {
   "codemirror_mode": {
    "name": "ipython",
    "version": 2
   },
   "file_extension": ".py",
   "mimetype": "text/x-python",
   "name": "python",
   "nbconvert_exporter": "python",
   "pygments_lexer": "ipython2",
   "version": "2.7.15"
  }
 },
 "nbformat": 4,
 "nbformat_minor": 2
}
