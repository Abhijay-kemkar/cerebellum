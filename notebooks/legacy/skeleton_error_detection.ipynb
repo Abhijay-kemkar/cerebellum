{
 "cells": [
  {
   "cell_type": "markdown",
   "metadata": {},
   "source": [
    "# Error detection\n",
    "\n",
    "## Method 1 - Presence of junctions"
   ]
  },
  {
   "cell_type": "code",
   "execution_count": 3,
   "metadata": {},
   "outputs": [
    {
     "name": "stderr",
     "output_type": "stream",
     "text": [
      "/home/srujanm/anaconda2/envs/em/lib/python2.7/site-packages/h5py/__init__.py:36: FutureWarning: Conversion of the second argument of issubdtype from `float` to `np.floating` is deprecated. In future, it will be treated as `np.float64 == np.dtype(float).type`.\n",
      "  from ._conv import register_converters as _register_converters\n"
     ]
    },
    {
     "name": "stdout",
     "output_type": "stream",
     "text": [
      "3660\n"
     ]
    }
   ],
   "source": [
    "# read pred skeletons\n",
    "prefix = \"pred-all\" # TO CHANGE\n",
    "output_resolution=(80,80,80)\n",
    "from ibex.utilities.dataIO import *\n",
    "pred_skeletons = ReadSkeletons(prefix, read_edges=True, downsample_resolution=output_resolution)\n",
    "print len(pred_skeletons)"
   ]
  },
  {
   "cell_type": "code",
   "execution_count": 24,
   "metadata": {},
   "outputs": [
    {
     "name": "stdout",
     "output_type": "stream",
     "text": [
      "[]\n"
     ]
    }
   ],
   "source": [
    "# test junctions function\n",
    "print pred_skeletons[42].get_junctions()"
   ]
  },
  {
   "cell_type": "code",
   "execution_count": 25,
   "metadata": {},
   "outputs": [
    {
     "name": "stdout",
     "output_type": "stream",
     "text": [
      "590\n",
      "21\n"
     ]
    }
   ],
   "source": [
    "# find all skeletons with junctions\n",
    "flag_branched = []\n",
    "flag_skipped = []\n",
    "for sk in pred_skeletons:\n",
    "    junctions = sk.get_junctions()\n",
    "    if junctions is None:\n",
    "        flag_skipped.append(sk.label)\n",
    "    elif len(junctions)>0:\n",
    "        flag_branched.append(sk.label)\n",
    "print len(flag_branched)\n",
    "print len(flag_skipped)"
   ]
  },
  {
   "cell_type": "markdown",
   "metadata": {},
   "source": [
    "## Method 2 - Cap number of nodes"
   ]
  },
  {
   "cell_type": "code",
   "execution_count": 70,
   "metadata": {},
   "outputs": [],
   "source": [
    "def find_heavy(skeletons, node_thresh):\n",
    "    \"\"\"Finds labels of skeletons with #nodes greater than a threshold\"\"\"\n",
    "    flag_heavy = []\n",
    "    for sk in skeletons:\n",
    "        if len(sk.endpoints)+len(sk.joints) > node_thresh:\n",
    "            flag_heavy.append(sk.label)\n",
    "    return flag_heavy"
   ]
  },
  {
   "cell_type": "code",
   "execution_count": 72,
   "metadata": {},
   "outputs": [],
   "source": [
    "# sweep node_thresh\n",
    "node_threshs = [40, 50, 60, 70]\n",
    "heavy_results = [find_heavy(pred_skeletons, t) for t in node_threshs]"
   ]
  },
  {
   "cell_type": "markdown",
   "metadata": {},
   "source": [
    "## Method 3 - Cap run length"
   ]
  },
  {
   "cell_type": "code",
   "execution_count": 5,
   "metadata": {},
   "outputs": [],
   "source": [
    "def find_long(skeletons, length_thresh):\n",
    "    \"\"\"Finds labels of skeletons with run length greater than a threshold\"\"\"\n",
    "    flag_long = []\n",
    "    for sk in skeletons:\n",
    "        if sk.length() > length_thresh:\n",
    "            flag_long.append(sk.label)\n",
    "    return flag_long"
   ]
  },
  {
   "cell_type": "code",
   "execution_count": 7,
   "metadata": {},
   "outputs": [],
   "source": [
    "import json\n",
    "with open('data_locs.json') as f:\n",
    "    data_locs = json.load(f)\n",
    "block_length = data_locs[\"block-size\"]*pred_skeletons[0].resolution[0]\n",
    "\n",
    "# sweep length_thresh\n",
    "length_threshs = np.multiply(np.array([1,5, 2, 2.5]), block_length)\n",
    "long_results = [find_long(pred_skeletons, t) for t in length_threshs]"
   ]
  },
  {
   "cell_type": "markdown",
   "metadata": {},
   "source": [
    "# Validate against GT skeletons"
   ]
  },
  {
   "cell_type": "code",
   "execution_count": 8,
   "metadata": {},
   "outputs": [],
   "source": [
    "# read merge errors identified in GT skeleton analysis\n",
    "def read_merges(read_path):\n",
    "    f = open(read_path + \"/merged.ids\", \"r\")\n",
    "    n_pairs = int(f.readline()) # no of pairs of GT merged skeletons\n",
    "    merge_ids = f.readlines()[::2]\n",
    "    for i, mstr in enumerate(merge_ids):\n",
    "        merge_ids[i] = int(mstr)\n",
    "    merge_ids = list(set(merge_ids))\n",
    "    return merge_ids\n",
    "\n",
    "# read correct IDs identified in GT skeleton analysis\n",
    "def read_corrects(read_path):\n",
    "    f = open(read_path + \"/correct.ids\", \"r\")\n",
    "    n_corr = int(f.readline()) # no of pairs of GT merged skeletons\n",
    "    corr_ids = f.readlines()\n",
    "    for i, cstr in enumerate(corr_ids):\n",
    "        corr_ids[i] = int(cstr.split(',')[1])\n",
    "    return corr_ids"
   ]
  },
  {
   "cell_type": "code",
   "execution_count": 9,
   "metadata": {},
   "outputs": [
    {
     "name": "stdout",
     "output_type": "stream",
     "text": [
      "# merges from GT analysis: 47\n",
      "# corrects from GT analysis: 712\n"
     ]
    }
   ],
   "source": [
    "err_analysis_path = 'skeletons/'+prefix+'/error-analysis/'\n",
    "\n",
    "merge_ids = read_merges(err_analysis_path)\n",
    "corr_ids = read_corrects(err_analysis_path)\n",
    "\n",
    "import json\n",
    "with open(err_analysis_path + 'error-analysis-summary.json') as f:\n",
    "    err_summ = json.load(f)\n",
    "assert len(corr_ids) == err_summ[\"results\"][\"correct\"]\n",
    "\n",
    "print \"# merges from GT analysis: %d\"%(len(merge_ids))\n",
    "print \"# corrects from GT analysis: %d\"%(len(corr_ids))"
   ]
  },
  {
   "cell_type": "code",
   "execution_count": 32,
   "metadata": {},
   "outputs": [],
   "source": [
    "def pr_analysis(detected_ids, merge_ids, corr_ids, write_path=None):\n",
    "    true_pos = list(set(merge_ids)&(set(detected_ids)))\n",
    "    print \"True positives: %d\"%(len(true_pos))\n",
    "    false_pos = list(set(corr_ids)&(set(detected_ids)))\n",
    "    print \"False positives: %d\"%(len(false_pos))\n",
    "    true_neg = list(set(corr_ids).difference(set(detected_ids)))\n",
    "    print \"True negatives: %d\"%(len(true_neg))\n",
    "    false_neg = list(set(merge_ids).difference(set(detected_ids)))\n",
    "    print \"False negatives: %d\"%(len(false_neg))\n",
    "    precision = len(true_pos)/(1.*len(true_pos)+len(false_pos))\n",
    "    recall = len(true_pos)/(1.*len(true_pos)+len(false_neg))\n",
    "    print \"Precision: %f\"%(precision)\n",
    "    print \"Recall: %f\"%(recall)\n",
    "    \n",
    "    print false_pos\n",
    "    print false_neg\n",
    "    \n",
    "    if write_path is not None:\n",
    "        np.save(write_path+'false_pos', false_pos)\n",
    "        np.save(write_path+'false_neg', false_neg)\n",
    "        np.save(write_path+'true_pos', true_pos)\n",
    "        np.save(write_path+'true_neg', true_neg)\n",
    "    return (precision, recall)"
   ]
  },
  {
   "cell_type": "code",
   "execution_count": 11,
   "metadata": {},
   "outputs": [
    {
     "name": "stdout",
     "output_type": "stream",
     "text": [
      "True positives: 19\n",
      "False positives: 15\n",
      "True negatives: 697\n",
      "False negatives: 28\n",
      "Precision: 0.558824\n",
      "Recall: 0.404255\n",
      "True positives: 12\n",
      "False positives: 10\n",
      "True negatives: 702\n",
      "False negatives: 35\n",
      "Precision: 0.545455\n",
      "Recall: 0.255319\n",
      "True positives: 7\n",
      "False positives: 4\n",
      "True negatives: 708\n",
      "False negatives: 40\n",
      "Precision: 0.636364\n",
      "Recall: 0.148936\n",
      "True positives: 5\n",
      "False positives: 2\n",
      "True negatives: 710\n",
      "False negatives: 42\n",
      "Precision: 0.714286\n",
      "Recall: 0.106383\n"
     ]
    },
    {
     "data": {
      "image/png": "[encoded data removed]",
      "text/plain": [
       "<Figure size 432x288 with 1 Axes>"
      ]
     },
     "metadata": {},
     "output_type": "display_data"
    }
   ],
   "source": [
    "# plot PR curve sweeping error detection method params\n",
    "import matplotlib.pyplot as plt\n",
    "\n",
    "pr_results = [pr_analysis(result, merge_ids, corr_ids) for result in long_results]\n",
    "p = [res[0] for res in pr_results]\n",
    "r = [res[1] for res in pr_results]\n",
    "plt.plot(p,r)\n",
    "plt.xlabel('Precision')\n",
    "plt.ylabel('Recall')\n",
    "plt.show()"
   ]
  },
  {
   "cell_type": "code",
   "execution_count": 26,
   "metadata": {},
   "outputs": [
    {
     "name": "stdout",
     "output_type": "stream",
     "text": [
      "316\n",
      "True positives: 28\n",
      "False positives: 26\n",
      "True negatives: 686\n",
      "False negatives: 19\n",
      "Precision: 0.518519\n",
      "Recall: 0.595745\n"
     ]
    },
    {
     "data": {
      "text/plain": [
       "(0.5185185185185185, 0.5957446808510638)"
      ]
     },
     "execution_count": 26,
     "metadata": {},
     "output_type": "execute_result"
    }
   ],
   "source": [
    "# inspect results for best parameter choice\n",
    "long_ids = find_long(pred_skeletons, 1.5*block_length)\n",
    "print len(long_ids)"
   ]
  },
  {
   "cell_type": "code",
   "execution_count": 33,
   "metadata": {},
   "outputs": [
    {
     "name": "stdout",
     "output_type": "stream",
     "text": [
      "True positives: 39\n",
      "False positives: 78\n",
      "True negatives: 634\n",
      "False negatives: 8\n",
      "Precision: 0.333333\n",
      "Recall: 0.829787\n",
      "[1414, 1189, 2434, 1411, 1317, 2310, 3593, 2314, 2445, 1679, 1040, 1427, 2708, 1685, 1560, 1945, 1436, 2501, 1136, 1702, 2211, 1316, 1061, 422, 1948, 1194, 2475, 3620, 1716, 1462, 1079, 1592, 1337, 1470, 3573, 3520, 1474, 1643, 2373, 1862, 1223, 1096, 3574, 2507, 3532, 1101, 1485, 2514, 3543, 3544, 985, 1372, 2397, 1630, 2399, 2272, 2402, 995, 1090, 2405, 1126, 2408, 3558, 2794, 1515, 1346, 2157, 1670, 2159, 2160, 2164, 1269, 2422, 1401, 2298, 1659, 1404, 2431]\n",
      "[1152, 1282, 1704, 1180, 1002, 3501, 2388, 3516]\n"
     ]
    },
    {
     "data": {
      "text/plain": [
       "(0.3333333333333333, 0.8297872340425532)"
      ]
     },
     "execution_count": 33,
     "metadata": {},
     "output_type": "execute_result"
    }
   ],
   "source": [
    "write_path='skeletons/'+prefix+'/error-detection/'\n",
    "\n",
    "detected_ids = list(set(flag_branched))\n",
    "pr_analysis(detected_ids, merge_ids, corr_ids, write_path=write_path)"
   ]
  },
  {
   "cell_type": "code",
   "execution_count": 28,
   "metadata": {},
   "outputs": [],
   "source": [
    "# load IDs that are false negatives\n",
    "false_negs = np.load(write_path+'false_neg.npy')\n",
    "false_pos = np.load(write_path+'false_pos.npy')\n",
    "# save skeletons\n",
    "for i in false_negs:\n",
    "    pred_skeletons[i].save_image(write_path+'/false-neg/')\n",
    "# for i in false_pos:\n",
    "#     pred_skeletons[i].save_image(write_path+'/false-pos/')"
   ]
  },
  {
   "cell_type": "code",
   "execution_count": 66,
   "metadata": {},
   "outputs": [],
   "source": [
    "# save images of detected skeletons\n",
    "# save_path = 'skeletons/'+prefix+'/error-detection/'\n",
    "# for i in detected_ids:\n",
    "#     pred_skeletons[i].save_image(save_path)"
   ]
  }
 ],
 "metadata": {
  "kernelspec": {
   "display_name": "em",
   "language": "python",
   "name": "em"
  },
  "language_info": {
   "codemirror_mode": {
    "name": "ipython",
    "version": 2
   },
   "file_extension": ".py",
   "mimetype": "text/x-python",
   "name": "python",
   "nbconvert_exporter": "python",
   "pygments_lexer": "ipython2",
   "version": "2.7.15"
  }
 },
 "nbformat": 4,
 "nbformat_minor": 2
}
