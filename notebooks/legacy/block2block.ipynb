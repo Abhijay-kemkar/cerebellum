{
 "cells": [
  {
   "cell_type": "markdown",
   "metadata": {},
   "source": [
    "This notebook walks you through the procedure to link IDs across two blocks using IoU tracking of objects at the interface slices. It assumes that the source and target blocks with chosen names are generated previously using the SegPrep module."
   ]
  },
  {
   "cell_type": "code",
   "execution_count": 1,
   "metadata": {},
   "outputs": [
    {
     "name": "stderr",
     "output_type": "stream",
     "text": [
      "/home/srujanm/anaconda2/envs/em/lib/python2.7/site-packages/h5py/__init__.py:36: FutureWarning: Conversion of the second argument of issubdtype from `float` to `np.floating` is deprecated. In future, it will be treated as `np.float64 == np.dtype(float).type`.\n",
      "  from ._conv import register_converters as _register_converters\n"
     ]
    }
   ],
   "source": [
    "from cerebellum.data_prep.seg_prep import *\n",
    "\n",
    "import json\n",
    "\n",
    "# set params\n",
    "resolution = (30, 48, 48)\n",
    "block_size = 60\n",
    "affinity_offset = 14\n",
    "wz_thresh = 0.5\n",
    "sblock_id = 0 # source block id\n",
    "tblock_id = 1 # target block id"
   ]
  },
  {
   "cell_type": "code",
   "execution_count": 2,
   "metadata": {},
   "outputs": [],
   "source": [
    "# read source block\n",
    "zz_sb = sblock_id*block_size + affinity_offset\n",
    "sblock_name = \"waterz%.2f-48nm-crop2gt-%04d\"%(wz_thresh, zz_sb) # source block name\n",
    "sblock = SegPrep(sblock_name, resolution)\n",
    "sblock.read_internal(stage=\"filtered\")\n",
    "sblock.read_bboxes() # Warning! If objects are relabeled, set stage argument appropriately\n",
    "sblock_seg = sblock.data\n",
    "sbbox_dict = sblock.bbox_dict"
   ]
  },
  {
   "cell_type": "code",
   "execution_count": 3,
   "metadata": {},
   "outputs": [],
   "source": [
    "zz_tb = tblock_id*block_size + affinity_offset\n",
    "tblock_name = \"waterz%.2f-48nm-crop2gt-%04d\"%(wz_thresh, zz_tb)\n",
    "tblock = SegPrep(tblock_name, resolution)\n",
    "tblock.read_internal(stage=\"filtered\")\n",
    "tblock.read_bboxes()  # Warning! If objects are relabeled, set stage argument appropriately\n",
    "tblock_seg = tblock.data\n",
    "tbbox_dict = tblock.bbox_dict"
   ]
  },
  {
   "cell_type": "code",
   "execution_count": 4,
   "metadata": {},
   "outputs": [],
   "source": [
    "from cerebellum.error_analysis.voxel_methods import iou_rank\n",
    "\n",
    "sslice = np.array([sblock_seg[-1,:,:]])\n",
    "tslice = np.array([tblock_seg[0,:,:]])\n",
    "\n",
    "#iou_results = iou_rank(sslice, tslice)"
   ]
  },
  {
   "cell_type": "code",
   "execution_count": 5,
   "metadata": {},
   "outputs": [
    {
     "data": {
      "text/plain": [
       "0.9302325581395349"
      ]
     },
     "execution_count": 5,
     "metadata": {},
     "output_type": "execute_result"
    }
   ],
   "source": [
    "# test single object tracking\n",
    "from cerebellum.error_correction.slice_stitch import slice2slice_iou_calc\n",
    "\n",
    "t_ids, ints, unions = slice2slice_iou_calc(sslice, tslice, 3293)\n",
    "float(ints[0])/unions[0]"
   ]
  },
  {
   "cell_type": "code",
   "execution_count": 8,
   "metadata": {},
   "outputs": [],
   "source": [
    "def block_lock(sblock_seg, tblock_seg, iou_thresh=0.5, \n",
    "               sbbox_dict=None, tbbox_dict=None, search_span=None):\n",
    "    \"\"\"\n",
    "    Locks objects in target block to IDs of objects in source block\n",
    "    \n",
    "    Tracks objects in last slice of source block into first slice of target block\n",
    "    \n",
    "    Currntly only supports sbbox_dict = None option\n",
    "    \"\"\"\n",
    "    start_time = time.time()\n",
    "    for i in [1,2]:\n",
    "        assert sblock_seg.shape[i]==tblock_seg.shape[i]\n",
    "    sslice = np.array([sblock_seg[-1,:,:]])\n",
    "    tslice = np.array([tblock_seg[0,:,:]])\n",
    "    # if bboxes are unavailable\n",
    "    s_objs = np.unique(sslice)\n",
    "    t_objs = np.zeros_like(s_objs, dtype=np.uint32)\n",
    "    for s_obj in s_objs:\n",
    "        if sbbox_dict is None:\n",
    "            int_ids, ints, unions = slice2slice_iou_calc(sslice, tslice, s_obj)\n",
    "        else:\n",
    "            sbbox = sbbox_dict[s_obj]\n",
    "            s_size = (search_span*(sbbox[4]-sbbox[1]),\n",
    "                      search_span*(sbbox[5]-sbbox[2]))\n",
    "            cropped_sslice = sslice[:,\n",
    "                                   max(0,sbbox[1]-s_size[0]):\n",
    "                                   min(sslice.shape[1],sbbox[4]+s_size[0]),\n",
    "                                   max(0,sbbox[2]-s_size[1]):\n",
    "                                   min(sslice.shape[2],sbbox[5]+s_size[1])]\n",
    "            cropped_tslice = tslice[:,\n",
    "                                   max(0,sbbox[1]-s_size[0]):\n",
    "                                   min(sslice.shape[1],sbbox[4]+s_size[0]),\n",
    "                                   max(0,sbbox[2]-s_size[1]):\n",
    "                                   min(sslice.shape[2],sbbox[5]+s_size[1])]\n",
    "            int_ids, ints, unions = slice2slice_iou_calc(cropped_sslice, \n",
    "                                                         cropped_tslice, s_obj)\n",
    "        t_obj = int_ids[0]\n",
    "        iou = float(ints[0])/unions[0]\n",
    "        if iou>iou_thresh:\n",
    "            if tbbox_dict is None:\n",
    "                tblock_seg[tblock_seg==t_obj] = s_obj\n",
    "            else:\n",
    "                tbbox = tbbox_dict[t_obj]\n",
    "                cropped_tblock = tblock_seg[tbbox[0]:tbbox[3],\n",
    "                                            tbbox[1]:tbbox[4],\n",
    "                                            tbbox[2]:tbbox[5]]\n",
    "                change_vox = list(np.nonzero(cropped_tblock==t_obj))\n",
    "                change_vox = tuple([cv + tbbox[c_id] for c_id, cv in enumerate(change_vox)])\n",
    "                tblock_seg[change_vox] = s_obj\n",
    "    print \"Runtime: %f\"%(time.time()-start_time)\n",
    "    return tblock_seg"
   ]
  },
  {
   "cell_type": "code",
   "execution_count": 9,
   "metadata": {
    "scrolled": true
   },
   "outputs": [
    {
     "name": "stdout",
     "output_type": "stream",
     "text": [
      "Runtime: 63.386322\n"
     ]
    }
   ],
   "source": [
    "tblock_locked = block_lock(sblock_seg, tblock_seg, iou_thresh=0.5, \n",
    "                           sbbox_dict=None, tbbox_dict=tbbox_dict,\n",
    "                           search_span=2)"
   ]
  },
  {
   "cell_type": "code",
   "execution_count": 10,
   "metadata": {},
   "outputs": [],
   "source": [
    "tblock.data = tblock_locked\n",
    "tblock.write(stage=\"locked-to-0\")"
   ]
  },
  {
   "cell_type": "code",
   "execution_count": 11,
   "metadata": {},
   "outputs": [
    {
     "data": {
      "text/plain": [
       "[60, 540, 489]"
      ]
     },
     "execution_count": 11,
     "metadata": {},
     "output_type": "execute_result"
    }
   ],
   "source": [
    "tblock.shape"
   ]
  }
 ],
 "metadata": {
  "kernelspec": {
   "display_name": "em",
   "language": "python",
   "name": "em"
  },
  "language_info": {
   "codemirror_mode": {
    "name": "ipython",
    "version": 2
   },
   "file_extension": ".py",
   "mimetype": "text/x-python",
   "name": "python",
   "nbconvert_exporter": "python",
   "pygments_lexer": "ipython2",
   "version": "2.7.15"
  }
 },
 "nbformat": 4,
 "nbformat_minor": 2
}
