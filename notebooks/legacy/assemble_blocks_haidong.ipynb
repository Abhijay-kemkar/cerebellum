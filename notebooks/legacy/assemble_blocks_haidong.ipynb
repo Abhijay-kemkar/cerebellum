{
 "cells": [
  {
   "cell_type": "markdown",
   "metadata": {},
   "source": [
    "## Full PF segmentation - superblock assembly\n",
    "\n",
    "Assemble segmentation superblocks from even-sized blocks that have already been stitched and share IDs"
   ]
  },
  {
   "cell_type": "code",
   "execution_count": 1,
   "metadata": {},
   "outputs": [
    {
     "name": "stderr",
     "output_type": "stream",
     "text": [
      "/home/srujanm/anaconda2/envs/em/lib/python2.7/site-packages/h5py/__init__.py:36: FutureWarning: Conversion of the second argument of issubdtype from `float` to `np.floating` is deprecated. In future, it will be treated as `np.float64 == np.dtype(float).type`.\n",
      "  from ._conv import register_converters as _register_converters\n"
     ]
    },
    {
     "name": "stdout",
     "output_type": "stream",
     "text": [
      "Original block size: (90, 3248, 6960)\n",
      "Downsampling by (1, 6, 6) to: (90, 542, 1160)\n"
     ]
    }
   ],
   "source": [
    "import json\n",
    "import time\n",
    "import math\n",
    "from cerebellum.data_prep.seg_prep import *\n",
    "\n",
    "with open('data_locs.json') as f:\n",
    "\tdata_locs = json.load(f)\n",
    "    \n",
    "linked_block_file = data_locs[\"initial-seg\"][\"dir\"]+data_locs[\"initial-seg\"][\"8nm-pf-linked\"] # first block file\n",
    "block_shape = h5py.File(linked_block_file,'r')['main'].shape\n",
    "print \"Original block size:\", block_shape\n",
    "resolution = (30,48,48) # order Z, Y, X\n",
    "dsmpl = (1,6,6)\n",
    "dsmpl_block_shape = tuple([int(math.ceil(float(block_shape[i])/dsmpl[i])) for i in range(3)])\n",
    "print \"Downsampling by\", dsmpl, \"to:\", dsmpl_block_shape"
   ]
  },
  {
   "cell_type": "code",
   "execution_count": 2,
   "metadata": {},
   "outputs": [
    {
     "name": "stdout",
     "output_type": "stream",
     "text": [
      "Appending the 0th block: /mnt/hp03/donglai/public/cere_pf/data_link_strict/0014.h5\n",
      "Finished reading block\n",
      "Finished operations with block 0 in 107.343472 seconds\n",
      "Total runtime so far: 107.343472 seconds\n",
      "Appending the 1th block: /mnt/hp03/donglai/public/cere_pf/data_link_strict/0104.h5\n",
      "Finished reading block\n",
      "Finished operations with block 1 in 105.237848 seconds\n",
      "Total runtime so far: 212.581320 seconds\n",
      "Saving superblock with 2 blocks\n",
      "Appending the 2th block: /mnt/hp03/donglai/public/cere_pf/data_link_strict/0194.h5\n",
      "Finished reading block\n",
      "Finished operations with block 2 in 106.589503 seconds\n",
      "Total runtime so far: 319.170823 seconds\n",
      "Appending the 3th block: /mnt/hp03/donglai/public/cere_pf/data_link_strict/0284.h5\n",
      "Finished reading block\n",
      "Finished operations with block 3 in 105.397472 seconds\n",
      "Total runtime so far: 424.568295 seconds\n",
      "Saving superblock with 4 blocks\n",
      "Appending the 4th block: /mnt/hp03/donglai/public/cere_pf/data_link_strict/0374.h5\n",
      "Finished reading block\n",
      "Finished operations with block 4 in 106.525795 seconds\n",
      "Total runtime so far: 531.094090 seconds\n",
      "Appending the 5th block: /mnt/hp03/donglai/public/cere_pf/data_link_strict/0464.h5\n",
      "Finished reading block\n",
      "Finished operations with block 5 in 107.012912 seconds\n",
      "Total runtime so far: 638.107002 seconds\n",
      "Appending the 6th block: /mnt/hp03/donglai/public/cere_pf/data_link_strict/0554.h5\n",
      "Finished reading block\n",
      "Finished operations with block 6 in 106.936154 seconds\n",
      "Total runtime so far: 745.043156 seconds\n",
      "Appending the 7th block: /mnt/hp03/donglai/public/cere_pf/data_link_strict/0644.h5\n",
      "Finished reading block\n",
      "Finished operations with block 7 in 107.024432 seconds\n",
      "Total runtime so far: 852.067588 seconds\n",
      "Saving superblock with 8 blocks\n",
      "Appending the 8th block: /mnt/hp03/donglai/public/cere_pf/data_link_strict/0734.h5\n",
      "Finished reading block\n",
      "Finished operations with block 8 in 106.870309 seconds\n",
      "Total runtime so far: 958.937896 seconds\n",
      "Appending the 9th block: /mnt/hp03/donglai/public/cere_pf/data_link_strict/0824.h5\n",
      "Finished reading block\n",
      "Finished operations with block 9 in 109.331290 seconds\n",
      "Total runtime so far: 1068.269186 seconds\n",
      "Appending the 10th block: /mnt/hp03/donglai/public/cere_pf/data_link_strict/0914.h5\n",
      "Finished reading block\n",
      "Finished operations with block 10 in 107.007549 seconds\n",
      "Total runtime so far: 1175.276736 seconds\n",
      "Appending the 11th block: /mnt/hp03/donglai/public/cere_pf/data_link_strict/1004.h5\n",
      "Finished reading block\n",
      "Finished operations with block 11 in 109.998177 seconds\n",
      "Total runtime so far: 1285.274913 seconds\n",
      "Saving superblock with 12 blocks\n",
      "Appending the 12th block: /mnt/hp03/donglai/public/cere_pf/data_link_strict/1094.h5\n",
      "Finished reading block\n",
      "Finished operations with block 12 in 107.281632 seconds\n",
      "Total runtime so far: 1392.556545 seconds\n",
      "Appending the 13th block: /mnt/hp03/donglai/public/cere_pf/data_link_strict/1184.h5\n",
      "Finished reading block\n",
      "Finished operations with block 13 in 107.163859 seconds\n",
      "Total runtime so far: 1499.720404 seconds\n",
      "Appending the 14th block: /mnt/hp03/donglai/public/cere_pf/data_link_strict/1274.h5\n",
      "Finished reading block\n",
      "Finished operations with block 14 in 107.108262 seconds\n",
      "Total runtime so far: 1606.828666 seconds\n",
      "Appending the 15th block: /mnt/hp03/donglai/public/cere_pf/data_link_strict/1364.h5\n",
      "Finished reading block\n",
      "Finished operations with block 15 in 106.720484 seconds\n",
      "Total runtime so far: 1713.549150 seconds\n",
      "Appending the 16th block: /mnt/hp03/donglai/public/cere_pf/data_link_strict/1454.h5\n",
      "Finished reading block\n",
      "Finished operations with block 16 in 107.371244 seconds\n",
      "Total runtime so far: 1820.920393 seconds\n",
      "Appending the 17th block: /mnt/hp03/donglai/public/cere_pf/data_link_strict/1544.h5\n",
      "Finished reading block\n",
      "Finished operations with block 17 in 108.503470 seconds\n",
      "Total runtime so far: 1929.423863 seconds\n",
      "Appending the 18th block: /mnt/hp03/donglai/public/cere_pf/data_link_strict/1634.h5\n",
      "Finished reading block\n",
      "Finished operations with block 18 in 107.482958 seconds\n",
      "Total runtime so far: 2036.906821 seconds\n",
      "Appending the 19th block: /mnt/hp03/donglai/public/cere_pf/data_link_strict/1724.h5\n",
      "Finished reading block\n",
      "Finished operations with block 19 in 107.117882 seconds\n",
      "Total runtime so far: 2144.024704 seconds\n",
      "Appending the 20th block: /mnt/hp03/donglai/public/cere_pf/data_link_strict/1814.h5\n",
      "Finished reading block\n",
      "Finished operations with block 20 in 106.778473 seconds\n",
      "Total runtime so far: 2250.803176 seconds\n",
      "Appending the 21th block: /mnt/hp03/donglai/public/cere_pf/data_link_strict/1904.h5\n",
      "Finished reading block\n",
      "Finished operations with block 21 in 107.465745 seconds\n",
      "Total runtime so far: 2358.268921 seconds\n",
      "Appending the 22th block: /mnt/hp03/donglai/public/cere_pf/data_link_strict/1994.h5\n",
      "Finished reading block\n",
      "Finished operations with block 22 in 107.055876 seconds\n",
      "Total runtime so far: 2465.324797 seconds\n",
      "Appending the 23th block: /mnt/hp03/donglai/public/cere_pf/data_link_strict/2084.h5\n",
      "Finished reading block\n",
      "Finished operations with block 23 in 107.930785 seconds\n",
      "Total runtime so far: 2573.255582 seconds\n",
      "Appending the 24th block: /mnt/hp03/donglai/public/cere_pf/data_link_strict/2174.h5\n",
      "Finished reading block\n",
      "Finished operations with block 24 in 106.385630 seconds\n",
      "Total runtime so far: 2679.641212 seconds\n",
      "Appending the 25th block: /mnt/hp03/donglai/public/cere_pf/data_link_strict/2264.h5\n",
      "Finished reading block\n",
      "Finished operations with block 25 in 106.895969 seconds\n",
      "Total runtime so far: 2786.537181 seconds\n",
      "Saving superblock with 26 blocks\n"
     ]
    }
   ],
   "source": [
    "# generate superblocks for full lateral extent\n",
    "save_folder = './data/superblocks_haidong/'\n",
    "save_fname = 'pred_full_superblock'\n",
    "n_blocks = 26 # total number of blocks to assemble\n",
    "superblock_steps = [2, 4, 8, 12, 26] # save after assembling these many blocks\n",
    "assert max(superblock_steps)==n_blocks\n",
    "superblock = np.zeros((n_blocks*dsmpl_block_shape[0], \n",
    "                       dsmpl_block_shape[1], dsmpl_block_shape[2]), dtype=np.uint32) # allocate max size\n",
    "total_runtime = 0\n",
    "for i in range(n_blocks):\n",
    "    block_time = time.time()\n",
    "    zz = i*data_locs[\"block-size\"]+data_locs[\"aff-offset\"]\n",
    "    if zz!=data_locs[\"aff-offset\"]: # adjust block index\n",
    "        linked_block_file = linked_block_file[:-7]+\"%04d.h5\"%(zz)\n",
    "    print \"Appending the %dth block: \"%(i) + linked_block_file\n",
    "    seg_block = SegPrep(\"temp\", resolution)\n",
    "    seg_block.read(linked_block_file, \"main\", dsmpl=dsmpl)\n",
    "    print \"Finished reading block\"\n",
    "    superblock[i*block_shape[0]:(i+1)*block_shape[0],:,:] = seg_block.data\n",
    "    block_runtime = time.time()-block_time\n",
    "    print \"Finished operations with block %d in %f seconds\"%(i, block_runtime)\n",
    "    total_runtime += block_runtime\n",
    "    print \"Total runtime so far: %f seconds\"%(total_runtime)\n",
    "    if i+1 in superblock_steps:\n",
    "        print \"Saving superblock with %d blocks\"%(i+1)\n",
    "        writeh5(save_folder+save_fname+ '_%dblocks.h5'%(i+1), 'main', \n",
    "                superblock[:(i+1)*block_shape[0],:,:], compression='gzip')"
   ]
  },
  {
   "cell_type": "code",
   "execution_count": 3,
   "metadata": {},
   "outputs": [],
   "source": [
    "del superblock # clear memory"
   ]
  },
  {
   "cell_type": "code",
   "execution_count": 12,
   "metadata": {},
   "outputs": [
    {
     "name": "stdout",
     "output_type": "stream",
     "text": [
      "(2340, 271, 580)\n"
     ]
    }
   ],
   "source": [
    "# downsize superblock further for visualization\n",
    "resolution_vis = (96,96,30)\n",
    "superblock_vis = read3d_h5(save_folder+save_fname+ '_%dblocks.h5'%(n_blocks), 'main', dsmpl=(1,2,2))\n",
    "print superblock_vis.shape\n",
    "# zero every 3rd z-slice, so effective z-resolution is 90nm\n",
    "for z in range(0,superblock_vis.shape[0],3):\n",
    "    superblock_vis[z,:,:] = 0\n",
    "writeh5(save_folder+save_fname+'_vis.h5', 'main', superblock_vis, compression=\"gzip\")"
   ]
  },
  {
   "cell_type": "markdown",
   "metadata": {},
   "source": [
    "## Full volume GT skeletonization"
   ]
  },
  {
   "cell_type": "code",
   "execution_count": 17,
   "metadata": {},
   "outputs": [
    {
     "name": "stdout",
     "output_type": "stream",
     "text": [
      "((0, 1001), (16, 556), (208, 696))\n",
      "[1001, 540, 488]\n",
      "Starting relabeling of 1029 objects\n",
      "Relabeling time: 0.000296\n"
     ]
    }
   ],
   "source": [
    "\n",
    "# get gt shape and offset\n",
    "gt48nm_file = data_locs[\"gt\"][\"dir\"] + data_locs[\"gt\"][\"48nm\"]\n",
    "bbox = data_locs[\"gt\"][\"48nm-bbox\"]\n",
    "gt_superblock = SegPrep(\"gt-all-slices\", resolution)\n",
    "block_lims = ((bbox[0],bbox[3]),(bbox[1],bbox[4]),(bbox[2],bbox[5]))\n",
    "print block_lims\n",
    "gt_superblock.read(gt48nm_file, \"main\", block_lims=block_lims)\n",
    "print gt_superblock.shape\n",
    "# use relabeling id map of GT generated using single block\n",
    "id_map = np.load('/home/srujanm/cerebellum/segs/gt0014/relabeling-map.npy')\n",
    "gt_superblock.relabel(id_map=id_map, print_labels=False)\n",
    "gt_superblock.write()"
   ]
  },
  {
   "cell_type": "code",
   "execution_count": 18,
   "metadata": {},
   "outputs": [
    {
     "name": "stdout",
     "output_type": "stream",
     "text": [
      "Starting skeletonization of gt-all-slices\n",
      "Downsampling to resolution (80, 80, 80) in 8.20758390427 seconds\n",
      "Topological thinning time for (80, 80, 80): 84.4062309265\n",
      "Endpoint vector time for (80, 80, 80): 67.6043131351\n",
      "Edge finding time for (80, 80, 80): 56.4648480415\n"
     ]
    }
   ],
   "source": [
    "# skeletonize GT\n",
    "gt_sb_name = \"gt-all-slices\"\n",
    "from cerebellum.skeletonize import gen_skeletons\n",
    "gen_skeletons(gt_sb_name, overwrite_prev=False)"
   ]
  },
  {
   "cell_type": "markdown",
   "metadata": {},
   "source": [
    "## PF segmentation superblocks cropped and aligned with GT\n",
    "\n",
    "Restart kernel here and start afresh to avoid potential errors!\n",
    "\n",
    "Here, we generate GT superblocks (one time evaluation and save) and pred superblocks cropped and aligned to GT for error analysis"
   ]
  },
  {
   "cell_type": "markdown",
   "metadata": {},
   "source": [
    "### GT superblock generation"
   ]
  },
  {
   "cell_type": "code",
   "execution_count": null,
   "metadata": {},
   "outputs": [],
   "source": [
    "import json\n",
    "import time\n",
    "import math\n",
    "from cerebellum.data_prep.seg_prep import *\n",
    "\n",
    "with open('data_locs.json') as f:\n",
    "\tdata_locs = json.load(f)\n",
    "    \n"
   ]
  },
  {
   "cell_type": "code",
   "execution_count": 2,
   "metadata": {},
   "outputs": [
    {
     "name": "stderr",
     "output_type": "stream",
     "text": [
      "/home/srujanm/anaconda2/envs/em/lib/python2.7/site-packages/h5py/__init__.py:36: FutureWarning: Conversion of the second argument of issubdtype from `float` to `np.floating` is deprecated. In future, it will be treated as `np.float64 == np.dtype(float).type`.\n",
      "  from ._conv import register_converters as _register_converters\n"
     ]
    },
    {
     "name": "stdout",
     "output_type": "stream",
     "text": [
      "Downsampled GT size: (1001, 625, 1250)\n"
     ]
    }
   ],
   "source": [
    "import json\n",
    "import time\n",
    "import math\n",
    "from cerebellum.data_prep.seg_prep import *\n",
    "\n",
    "with open('data_locs.json') as f:\n",
    "\tdata_locs = json.load(f)\n",
    "    \n",
    "linked_block_file = data_locs[\"initial-seg\"][\"dir\"]+data_locs[\"initial-seg\"][\"8nm-pf-linked\"] # first block f\n",
    "resolution = (30,48,48) # order Z, Y, X\n",
    "dsmpl = (1,6,6)\n",
    "\n",
    "# get gt shape and offset\n",
    "gt8nm_file = data_locs[\"gt\"][\"dir\"] + data_locs[\"gt\"][\"8nm\"]\n",
    "gt_shape = h5py.File(gt48nm_file,'r')['main'].shape\n",
    "print \"Downsampled GT size:\", gt_shape\n",
    "offset = data_locs[\"initial-seg\"][\"8nm-offset\"] # offset aligns segmentation with GT\n",
    "bbox_8nm = data_locs[\"gt\"][\"8nm-bbox\"]"
   ]
  },
  {
   "cell_type": "code",
   "execution_count": null,
   "metadata": {},
   "outputs": [],
   "source": [
    "# generate pred superblocks cropped to GT extents\n",
    "cropped_folder = './data/superblocks_haidong/'\n",
    "cropped_fname = 'pred_crop2gt_superblock'\n",
    "\n",
    "eval_blocks = 12 # max number of blocks for GT evaluation\n",
    "eval_superblock_steps = [2, 4, 8, 12] # save after assembling these many blocks\n",
    "eval_superblock = np.zeros((eval_blocks*gt_shape[0], \n",
    "                            gt_shape[1], gt_shape[2]), dtype=np.uint32) # allocate max size\n",
    "total_runtime = 0\n",
    "for i in range(eval_blocks):\n",
    "    block_time = time.time()\n",
    "    zz = i*data_locs[\"block-size\"]+data_locs[\"aff-offset\"]\n",
    "    if zz!=data_locs[\"aff-offset\"]: # adjust block index\n",
    "        linked_block_file = linked_block_file[:-7]+\"%04d.h5\"%(zz)\n",
    "    print \"Appending the %dth block: \"%(i) + linked_block_file\n",
    "    seg_block = SegPrep(\"temp\", resolution)\n",
    "    seg_block_lims = ((0,gt_shape[0]),\n",
    "                      (max(0,bbox[1]+offset[1]),bbox[4]+offset[1]),\n",
    "                      (max(0,bbox[2]+offset[2]),bbox[5]+offset[2]))\n",
    "    seg_block.read(linked_block_file, \"main\", dsmpl=dsmpl, block_lims=seg_block_lims)\n",
    "    # pad zeros if required\n",
    "    for pad_axis in [1,2]:\n",
    "        extra_zeros = gt_shape[pad_axis]-seg_block.shape[pad_axis]\n",
    "        if extra_zeros!=0: seg_block.padzeros(0,pad_axis)\n",
    "    print \"Finished reading block\"\n",
    "    eval_superblock[i*gt_shape[0]:(i+1)*gt_shape[0],:,:] = seg_block.data\n",
    "    block_runtime = time.time()-block_time\n",
    "    print \"Finished operations with block %d in %f seconds\"%(i, block_runtime)\n",
    "    total_runtime += block_runtime\n",
    "    print \"Total runtime so far: %f seconds\"%(total_runtime)\n",
    "    if i+1 in eval_superblock_steps:\n",
    "        print \"Saving superblock with %d blocks\"%(i)\n",
    "        writeh5(cropped_folder+cropped_fname+ '_%dblocks.h5'%(i))"
   ]
  }
 ],
 "metadata": {
  "kernelspec": {
   "display_name": "em",
   "language": "python",
   "name": "em"
  },
  "language_info": {
   "codemirror_mode": {
    "name": "ipython",
    "version": 2
   },
   "file_extension": ".py",
   "mimetype": "text/x-python",
   "name": "python",
   "nbconvert_exporter": "python",
   "pygments_lexer": "ipython2",
   "version": "2.7.15"
  }
 },
 "nbformat": 4,
 "nbformat_minor": 2
}
