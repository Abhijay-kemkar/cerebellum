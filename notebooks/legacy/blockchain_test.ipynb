{
 "cells": [
  {
   "cell_type": "markdown",
   "metadata": {},
   "source": []
  },
  {
   "cell_type": "code",
   "execution_count": 1,
   "metadata": {},
   "outputs": [
    {
     "name": "stderr",
     "output_type": "stream",
     "text": [
      "/home/srujanm/anaconda2/envs/em/lib/python2.7/site-packages/h5py/__init__.py:36: FutureWarning: Conversion of the second argument of issubdtype from `float` to `np.floating` is deprecated. In future, it will be treated as `np.float64 == np.dtype(float).type`.\n",
      "  from ._conv import register_converters as _register_converters\n"
     ]
    }
   ],
   "source": [
    "from cerebellum.data_prep.seg_prep import *\n",
    "from cerebellum.block_chain.block_lock import *\n",
    "\n",
    "import json\n",
    "\n",
    "resolution = (30, 48, 48)\n",
    "block_size = 60\n",
    "affinity_offset = 14\n",
    "wz_thresh = 0.5\n",
    "n_blocks = 15\n",
    "sblock_ids = range(0,n_blocks-1)"
   ]
  },
  {
   "cell_type": "code",
   "execution_count": 2,
   "metadata": {},
   "outputs": [
    {
     "name": "stdout",
     "output_type": "stream",
     "text": [
      "Linking block 0 and 1\n",
      "Runtime: 76.827350\n",
      "Linking block 1 and 2\n",
      "Runtime: 33.749339\n",
      "Linking block 2 and 3\n",
      "Runtime: 81.018039\n",
      "Linking block 3 and 4\n",
      "Runtime: 95.126621\n",
      "Linking block 4 and 5\n",
      "Runtime: 77.094146\n",
      "Linking block 5 and 6\n",
      "Runtime: 77.558642\n",
      "Linking block 6 and 7\n",
      "Runtime: 76.232953\n",
      "Linking block 7 and 8\n",
      "Runtime: 78.256160\n",
      "Linking block 8 and 9\n",
      "Runtime: 77.706153\n",
      "Linking block 9 and 10\n",
      "Runtime: 86.197607\n",
      "Linking block 10 and 11\n",
      "Runtime: 72.770326\n",
      "Linking block 11 and 12\n",
      "Runtime: 72.838658\n",
      "Linking block 12 and 13\n",
      "Runtime: 71.199968\n",
      "Linking block 13 and 14\n",
      "Runtime: 32.941181\n",
      "Completed block-chain. Total runtime: 1053.310320\n"
     ]
    }
   ],
   "source": [
    "# link blocks in linear fashion\n",
    "start_time = time.time()\n",
    "for sblock_id in sblock_ids:\n",
    "    tblock_id = sblock_id + 1\n",
    "    # load sblock\n",
    "    zz_sb = sblock_id*block_size + affinity_offset\n",
    "    sblock_name = \"waterz%.2f-48nm-crop2gt-%04d\"%(wz_thresh, zz_sb)\n",
    "    sblock = SegPrep(sblock_name, resolution)\n",
    "    if sblock_id==0: sblock.read_internal(stage=\"filtered\")\n",
    "    else: sblock.read_internal(stage=\"locked-to-0\")\n",
    "    sblock.read_bboxes() # Warning! If objects are relabeled, load relabeled-bboxes.json\n",
    "    sblock_seg = sblock.data\n",
    "    sbbox_dict = sblock.bbox_dict\n",
    "    # load tblock\n",
    "    zz_tb = tblock_id*block_size + affinity_offset\n",
    "    tblock_name = \"waterz%.2f-48nm-crop2gt-%04d\"%(wz_thresh, zz_tb)\n",
    "    tblock = SegPrep(tblock_name, resolution)\n",
    "    tblock.read_internal(stage=\"filtered\")\n",
    "    tblock.read_bboxes() # Warning! If objects are relabeled, load relabeled-bboxes.json\n",
    "    tblock_seg = tblock.data\n",
    "    tbbox_dict = tblock.bbox_dict\n",
    "    print \"Linking block %d and %d\"%(sblock_id, tblock_id)\n",
    "    tblock_locked = block_lock(sblock_seg, tblock_seg, iou_thresh=0.5, \n",
    "                               tbbox_dict=tbbox_dict)\n",
    "    tblock.data = tblock_locked\n",
    "    tblock.write(stage=\"locked-to-0\")\n",
    "print \"Completed block-chain. Total runtime: %f\"%(time.time()-start_time)"
   ]
  }
 ],
 "metadata": {
  "kernelspec": {
   "display_name": "em",
   "language": "python",
   "name": "em"
  },
  "language_info": {
   "codemirror_mode": {
    "name": "ipython",
    "version": 2
   },
   "file_extension": ".py",
   "mimetype": "text/x-python",
   "name": "python",
   "nbconvert_exporter": "python",
   "pygments_lexer": "ipython2",
   "version": "2.7.15"
  }
 },
 "nbformat": 4,
 "nbformat_minor": 2
}
