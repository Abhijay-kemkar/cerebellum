{
 "cells": [
  {
   "cell_type": "markdown",
   "metadata": {},
   "source": [
    "This notebook performs an error analysis of our block stitching process using IoU tracking across interface slices. The idea is to characterize error statistics of source block and target block before linking, and of the combined superblock after linking. Ideally, the ERL of the superblock should be as close as possible to the sum of ERLs of source and target blocks.\n",
    "\n",
    "The code below assumes source and target blocks have been apropriately generated using the SegPrep module.\n",
    "\n",
    "## Block stitching"
   ]
  },
  {
   "cell_type": "code",
   "execution_count": 1,
   "metadata": {},
   "outputs": [
    {
     "name": "stderr",
     "output_type": "stream",
     "text": [
      "/home/srujanm/anaconda2/envs/em/lib/python2.7/site-packages/h5py/__init__.py:36: FutureWarning: Conversion of the second argument of issubdtype from `float` to `np.floating` is deprecated. In future, it will be treated as `np.float64 == np.dtype(float).type`.\n",
      "  from ._conv import register_converters as _register_converters\n"
     ]
    }
   ],
   "source": [
    "from cerebellum.data_prep.seg_prep import *\n",
    "from cerebellum.error_analysis.skel_segeval import *\n",
    "import json\n",
    "\n",
    "# set params\n",
    "resolution = (30, 48, 48)\n",
    "block_size = 60\n",
    "affinity_offset = 14\n",
    "wz_thresh = 0.5\n",
    "sblock_id = 0 # source block id\n",
    "tblock_id = 1 # target block id"
   ]
  },
  {
   "cell_type": "code",
   "execution_count": 2,
   "metadata": {},
   "outputs": [],
   "source": [
    "# names of source and target block segmentations\n",
    "zz_sb = sblock_id*block_size + affinity_offset\n",
    "gt_sb_name = \"gt-48nm-%dslices-%04d\"%(block_size, zz_sb)\n",
    "pred_sb_name = \"waterz%.2f-48nm-crop2gt-%04d\"%(wz_thresh, zz_sb)\n",
    "zz_tb = tblock_id*block_size + affinity_offset\n",
    "tblock_name = \"waterz%.2f-48nm-crop2gt-%04d\"%(wz_thresh, zz_tb)\n",
    "gt_tb_name = \"gt-48nm-%dslices-%04d\"%(block_size, zz_tb)\n",
    "pred_tb_name = \"waterz%.2f-48nm-crop2gt-%04d\"%(wz_thresh, zz_tb)"
   ]
  },
  {
   "cell_type": "code",
   "execution_count": 3,
   "metadata": {},
   "outputs": [],
   "source": [
    "# skeleton error analysis thresholds\n",
    "t_om = 0.9\n",
    "t_m = 0.5\n",
    "t_s = 0.8"
   ]
  },
  {
   "cell_type": "code",
   "execution_count": 4,
   "metadata": {},
   "outputs": [
    {
     "name": "stdout",
     "output_type": "stream",
     "text": [
      "Starting voxel evaluation methods for waterz0.50-48nm-crop2gt-0014 against gt-48nm-60slices-0014\n",
      "Missing object results loaded\n",
      "VI loaded\n",
      "IoU results loaded\n",
      "delta_VI results loaded\n",
      "Delta VI histogram plots generated and saved\n",
      "Starting error analysis of waterz0.50-48nm-crop2gt-0014 against skeletons of gt-48nm-60slices-0014\n",
      "Warning! Labels in predicted segmentation are not consecutive. Proceeding anyway\n",
      "Starting evaluation of 5738 labels in 60x540x489 predicted segmentation against 1003 GT skeletons\n",
      "Using error thresholds: t_om=0.90, t_m=0.50, t_s=0.80\n",
      "Skeleton evaluation time: 3.51039600372\n",
      "Results:\n",
      "23 omissions, 15 merges, 126 splits, 12 hybrid, 827 correct\n",
      "GT ERL: 2005, Prediction ERL: 1590\n",
      "GT TRL: 1742560, Prediction TRL: 1522548\n",
      "Omitted RL: 46502, Merged RL: 72981, Split RL: 100528\n",
      "Starting voxel evaluation methods for waterz0.50-48nm-crop2gt-0014 against gt-48nm-60slices-0014\n",
      "Original VI split, VI merge: 0.071742, 0.174443\n",
      "After fixing 44 merges in GT flagged by skeleton analysis:\n",
      "(0.05662129037489135, 0.05925169550170907)\n",
      "Starting voxel evaluation methods for waterz0.50-48nm-crop2gt-0014 against gt-48nm-60slices-0014\n",
      "Original VI split, VI merge: 0.071742, 0.174443\n",
      "After fixing 138 splits in GT flagged by skeleton analysis:\n",
      "(0.02330655221086252, 0.03784099875280171)\n"
     ]
    }
   ],
   "source": [
    "# run error analysis of source block\n",
    "sb_vox_eval = VoxEval(gt_sb_name, pred_sb_name, stage=\"filtered\")\n",
    "sb_vox_eval.run_fullsuite(iou_max=0.6, hist_segs=10, \n",
    "                          thresh_miss=t_om, overwrite_prev=False)\n",
    "sb_skel_eval = SkelEval(gt_sb_name, pred_sb_name, dsmpl_res=(80,80,80), \n",
    "\t                 t_om=t_om, t_m=t_m, t_s=t_s, \n",
    "\t                 include_zero_split=False, include_zero_merge=True,\n",
    "\t                 stage=\"filtered\", overwrite_prev=True)\n",
    "sb_skel_eval.merge_oracle()\n",
    "sb_skel_eval.split_oracle()"
   ]
  },
  {
   "cell_type": "code",
   "execution_count": 5,
   "metadata": {},
   "outputs": [
    {
     "name": "stdout",
     "output_type": "stream",
     "text": [
      "Starting voxel evaluation methods for waterz0.50-48nm-crop2gt-0074 against gt-48nm-60slices-0074\n",
      "Missing object results loaded\n",
      "VI loaded\n",
      "IoU results loaded\n",
      "delta_VI results loaded\n",
      "Delta VI histogram plots generated and saved\n",
      "Starting error analysis of waterz0.50-48nm-crop2gt-0074 against skeletons of gt-48nm-60slices-0074\n",
      "Warning! Labels in predicted segmentation are not consecutive. Proceeding anyway\n",
      "Starting evaluation of 5576 labels in 60x540x489 predicted segmentation against 1001 GT skeletons\n",
      "Using error thresholds: t_om=0.90, t_m=0.50, t_s=0.80\n",
      "Skeleton evaluation time: 3.76012396812\n",
      "Results:\n",
      "54 omissions, 8 merges, 175 splits, 11 hybrid, 753 correct\n",
      "GT ERL: 2299, Prediction ERL: 1478\n",
      "GT TRL: 1808707, Prediction TRL: 1467614\n",
      "Omitted RL: 128787, Merged RL: 67471, Split RL: 144833\n",
      "Starting voxel evaluation methods for waterz0.50-48nm-crop2gt-0074 against gt-48nm-60slices-0074\n",
      "Original VI split, VI merge: 0.096858, 0.118013\n",
      "After fixing 65 merges in GT flagged by skeleton analysis:\n",
      "(0.08814508411761186, 0.06482429955827722)\n",
      "Starting voxel evaluation methods for waterz0.50-48nm-crop2gt-0074 against gt-48nm-60slices-0074\n",
      "Original VI split, VI merge: 0.096858, 0.118013\n",
      "After fixing 186 splits in GT flagged by skeleton analysis:\n",
      "(0.02620819039033701, 0.04078060010546799)\n"
     ]
    }
   ],
   "source": [
    "# run error analysis of unlinked target block\n",
    "tb_vox_eval = VoxEval(gt_tb_name, pred_tb_name, stage=\"filtered\")\n",
    "tb_vox_eval.run_fullsuite(iou_max=0.6, hist_segs=10, \n",
    "                          thresh_miss=t_om, overwrite_prev=False)\n",
    "tb_skel_eval = SkelEval(gt_tb_name, pred_tb_name, dsmpl_res=(80,80,80), \n",
    "\t                 t_om=t_om, t_m=t_m, t_s=t_s, \n",
    "\t                 include_zero_split=False, include_zero_merge=True,\n",
    "\t                 stage=\"filtered\", overwrite_prev=True)\n",
    "tb_skel_eval.merge_oracle()\n",
    "tb_skel_eval.split_oracle()"
   ]
  },
  {
   "cell_type": "markdown",
   "metadata": {},
   "source": [
    "## Superblock error analysis"
   ]
  },
  {
   "cell_type": "code",
   "execution_count": 8,
   "metadata": {},
   "outputs": [
    {
     "name": "stdout",
     "output_type": "stream",
     "text": [
      "Starting relabeling of 1003 objects\n",
      "Relabeling time: 0.427247\n",
      "Starting skeletonization of gt48nm-linear-superblock-2blocks\n",
      "Downsampling to resolution (80, 80, 80) in 0.6146068573 seconds\n",
      "Topological thinning time for (80, 80, 80): 9.49117493629\n",
      "Endpoint vector time for (80, 80, 80): 2.15331697464\n",
      "Edge finding time for (80, 80, 80): 0.4236369133\n"
     ]
    }
   ],
   "source": [
    "# generate GT superblock for error analysis\n",
    "gt_superblock_type = 'gt48nm-linear-superblock'\n",
    "n_blocks = 2\n",
    "gt_superblock_name = gt_superblock_type + '-%dblocks'%(n_blocks)\n",
    "\n",
    "gt8nm_file = \"/home/srujanm/cerebellum/data/vol1/gt8nm_pf-align1_1k_crop.h5\" # location of GT on disk\n",
    "gt_superblock_seg = SegPrep(gt_superblock_name, resolution)\n",
    "gt_superblock_seg.read(gt8nm_file, 'main', dsmpl=(1,6,6),\n",
    "                       block_lims=((0,n_blocks*block_size),(None,None),(None,None)))\n",
    "# gt_superblock_seg.gen_bboxes()\n",
    "gt_superblock_seg.read_bboxes() # read bboxes generated above\n",
    "gt_superblock_seg.relabel(use_bboxes=True)\n",
    "gt_superblock_seg.write()\n",
    "\n",
    "# assuming relabeling has already been done proceed to skeletonize\n",
    "from cerebellum.skeletonize import gen_skeletons\n",
    "gen_skeletons(gt_superblock_name, resolution, overwrite_prev=True)"
   ]
  },
  {
   "cell_type": "code",
   "execution_count": 9,
   "metadata": {},
   "outputs": [],
   "source": [
    "# prepare predicted segmentation superblock for error analysis\n",
    "iou_thresh = 0.4\n",
    "pred_superblock_type = 'waterz%.2f-48nm-crop2gt-linear-superblock-iou-%.2f'%(wz_thresh, iou_thresh)\n",
    "pred_superblock_name = pred_superblock_type + '-%dblocks'%(n_blocks)\n",
    "pred_superblock_seg = SegPrep(pred_superblock_name, resolution)\n",
    "pred_superblock_seg.read('./superblocks/'+pred_superblock_name+'.h5', 'main')\n",
    "pred_superblock_seg.write()"
   ]
  },
  {
   "cell_type": "code",
   "execution_count": 10,
   "metadata": {},
   "outputs": [
    {
     "name": "stdout",
     "output_type": "stream",
     "text": [
      "Starting voxel evaluation methods for waterz0.50-48nm-crop2gt-linear-superblock-iou-0.40-2blocks against gt48nm-linear-superblock-2blocks\n",
      "Found 3 GT objects completely missing\n",
      "VI split, VI merge: 0.257888, 0.935681\n",
      "Error retrieving VI because VI calculation has not been run yet\n",
      "Starting error analysis of waterz0.50-48nm-crop2gt-linear-superblock-iou-0.40-2blocks against skeletons of gt48nm-linear-superblock-2blocks\n",
      "Warning! Labels in predicted segmentation are not consecutive. Proceeding anyway\n",
      "Starting evaluation of 7733 labels in 120x540x489 predicted segmentation against 1003 GT skeletons\n",
      "Using error thresholds: t_om=0.90, t_m=0.50, t_s=0.80\n",
      "Skeleton evaluation time: 5.40400791168\n",
      "Results:\n",
      "4 omissions, 35 merges, 298 splits, 31 hybrid, 635 correct\n",
      "GT ERL: 4506, Prediction ERL: 2958\n",
      "GT TRL: 4258598, Prediction TRL: 3283719\n",
      "Omitted RL: 13420, Merged RL: 361729, Split RL: 599728\n",
      "Starting voxel evaluation methods for waterz0.50-48nm-crop2gt-linear-superblock-iou-0.40-2blocks against gt48nm-linear-superblock-2blocks\n",
      "Original VI split, VI merge: 0.257888, 0.935681\n",
      "After fixing 69 merges in GT flagged by skeleton analysis:\n",
      "(0.1263239271821921, 0.21125978062917508)\n",
      "Starting voxel evaluation methods for waterz0.50-48nm-crop2gt-linear-superblock-iou-0.40-2blocks against gt48nm-linear-superblock-2blocks\n",
      "Original VI split, VI merge: 0.257888, 0.935681\n",
      "After fixing 329 splits in GT flagged by skeleton analysis:\n",
      "(0.0989410431619785, 0.3154856165173059)\n"
     ]
    }
   ],
   "source": [
    "# run error analysis\n",
    "superblock_vox_eval = VoxEval(gt_superblock_name, pred_superblock_name)\n",
    "superblock_vox_eval.find_misses(thresh_miss=t_om)\n",
    "superblock_vox_eval.find_vi()\n",
    "superblock_vox_eval.get_vi()\n",
    "superblock_skel_eval = SkelEval(gt_superblock_name, pred_superblock_name, dsmpl_res=(80,80,80), \n",
    "                                 t_om=t_om, t_m=t_m, t_s=t_s, \n",
    "                                 include_zero_split=False, include_zero_merge=True,\n",
    "                                 overwrite_prev=True)\n",
    "superblock_skel_eval.merge_oracle()\n",
    "superblock_skel_eval.split_oracle()"
   ]
  }
 ],
 "metadata": {
  "kernelspec": {
   "display_name": "em",
   "language": "python",
   "name": "em"
  },
  "language_info": {
   "codemirror_mode": {
    "name": "ipython",
    "version": 2
   },
   "file_extension": ".py",
   "mimetype": "text/x-python",
   "name": "python",
   "nbconvert_exporter": "python",
   "pygments_lexer": "ipython2",
   "version": "2.7.15"
  }
 },
 "nbformat": 4,
 "nbformat_minor": 2
}
