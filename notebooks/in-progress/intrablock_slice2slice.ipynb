{
 "cells": [
  {
   "cell_type": "markdown",
   "metadata": {},
   "source": [
    "Experiment to fix intrablock splits using slice to slice IoU tracking"
   ]
  },
  {
   "cell_type": "code",
   "execution_count": null,
   "metadata": {},
   "outputs": [],
   "source": [
    "from cerebellum.data_prep.seg_prep import *\n",
    "\n",
    "import json\n",
    "\n",
    "with open('data_locs.json') as f:\n",
    "\tdata_locs = json.load(f)\n",
    "resolution = (30, 48, 48)\n",
    "bbox = data_locs[\"gt\"][\"8nm-bbox\"] # global bbox\n",
    "affinity_offset = data_locs[\"aff-offset\"] # affinity offset along z-axis\n",
    "block_size = 60\n",
    "wz_thresh = 0.5"
   ]
  },
  {
   "cell_type": "code",
   "execution_count": 2,
   "metadata": {},
   "outputs": [
    {
     "name": "stdout",
     "output_type": "stream",
     "text": [
      "(60, 540, 489)\n",
      "5738\n"
     ]
    }
   ],
   "source": [
    "block_id = 0\n",
    "zz = block_id*block_size + affinity_offset\n",
    "block_name = \"waterz%.2f-48nm-crop2gt-%04d\"%(wz_thresh, zz)\n",
    "block = SegPrep(block_name, resolution)\n",
    "block.read_internal(stage=\"filtered\")\n",
    "block.read_bboxes(stage=\"filtered\") # Warning! If objects are relabeled, load relabeled-bboxes.json\n",
    "block_seg = block.data\n",
    "print block_seg.shape\n",
    "bbox_dict = block.bbox_dict\n",
    "print (len(bbox_dict.keys()))"
   ]
  },
  {
   "cell_type": "code",
   "execution_count": 9,
   "metadata": {},
   "outputs": [
    {
     "name": "stdout",
     "output_type": "stream",
     "text": [
      "[0, 202, 263, 36, 212, 269]\n",
      "[] [35, 36, 37, 38, 39, 40, 41, 42, 43, 44, 45, 46, 47, 48, 49, 50, 51, 52, 53, 54, 55, 56, 57, 58]\n",
      "35\n",
      "(array([3659], dtype=uint32), array([12]), array([47]))\n",
      "36\n",
      "(array([], dtype=uint32), array([], dtype=int64), array([], dtype=int64))\n",
      "37\n",
      "(array([], dtype=uint32), array([], dtype=int64), array([], dtype=int64))\n",
      "38\n",
      "(array([], dtype=uint32), array([], dtype=int64), array([], dtype=int64))\n",
      "39\n",
      "(array([], dtype=uint32), array([], dtype=int64), array([], dtype=int64))\n",
      "40\n",
      "(array([], dtype=uint32), array([], dtype=int64), array([], dtype=int64))\n",
      "41\n",
      "(array([], dtype=uint32), array([], dtype=int64), array([], dtype=int64))\n",
      "42\n",
      "(array([], dtype=uint32), array([], dtype=int64), array([], dtype=int64))\n",
      "43\n",
      "(array([], dtype=uint32), array([], dtype=int64), array([], dtype=int64))\n",
      "44\n",
      "(array([], dtype=uint32), array([], dtype=int64), array([], dtype=int64))\n",
      "45\n",
      "(array([], dtype=uint32), array([], dtype=int64), array([], dtype=int64))\n",
      "46\n",
      "(array([], dtype=uint32), array([], dtype=int64), array([], dtype=int64))\n",
      "47\n",
      "(array([], dtype=uint32), array([], dtype=int64), array([], dtype=int64))\n",
      "48\n",
      "(array([], dtype=uint32), array([], dtype=int64), array([], dtype=int64))\n",
      "49\n",
      "(array([], dtype=uint32), array([], dtype=int64), array([], dtype=int64))\n",
      "50\n",
      "(array([], dtype=uint32), array([], dtype=int64), array([], dtype=int64))\n",
      "51\n",
      "(array([], dtype=uint32), array([], dtype=int64), array([], dtype=int64))\n",
      "52\n",
      "(array([], dtype=uint32), array([], dtype=int64), array([], dtype=int64))\n",
      "53\n",
      "(array([], dtype=uint32), array([], dtype=int64), array([], dtype=int64))\n",
      "54\n",
      "(array([], dtype=uint32), array([], dtype=int64), array([], dtype=int64))\n",
      "55\n",
      "(array([], dtype=uint32), array([], dtype=int64), array([], dtype=int64))\n",
      "56\n",
      "(array([], dtype=uint32), array([], dtype=int64), array([], dtype=int64))\n",
      "57\n",
      "(array([], dtype=uint32), array([], dtype=int64), array([], dtype=int64))\n",
      "58\n",
      "(array([], dtype=uint32), array([], dtype=int64), array([], dtype=int64))\n"
     ]
    }
   ],
   "source": [
    "from cerebellum.error_correction.slice_stitch import slice2slice_iou_calc\n",
    "\n",
    "def block_track(block_seg, bbox_dict, iou_thresh, zstride=1):\n",
    "    \n",
    "    def track_and_relabel(sslice, tslice, obj_id, block_seg, bbox_dict, iou_thresh):\n",
    "        int_ids, ints, unions = slice2slice_iou_calc(sslice, tslice, obj_id)\n",
    "        t_id = int_ids[0]\n",
    "        iou = float(ints[0])/unions[0]\n",
    "        track_success = iou>iou_thresh\n",
    "        if track_success:\n",
    "            print \"Trakced to object: %d\"%(t_id)\n",
    "            bbox = bbox_dict[t_id]\n",
    "            cropped_block = block_seg[bbox[0]:bbox[3],\n",
    "                                      bbox[1]:bbox[4],\n",
    "                                      bbox[2]:bbox[5]]\n",
    "            change_vox = list(np.nonzero(cropped_block==t_id))\n",
    "            change_vox = tuple([cv + bbox[c_id] for c_id, cv in enumerate(change_vox)])\n",
    "            # update label\n",
    "            block_seg[change_vox] = obj_id\n",
    "            # update bbox dict\n",
    "            tbbox = bbox_dict[t_id] # bbox of tracked object\n",
    "            bbox_new = (min()\n",
    "                        )\n",
    "            bbox_dict.update({obj_id: bbox_dict.pop(t_id)})\n",
    "        return track_success, block_seg, bbox_dict, iou\n",
    "\n",
    "    obj_id = 3628\n",
    "    bbox = bbox_dict[obj_id]\n",
    "    print \"Tracking object %d outside bbox: \"%(obj_id), bbox\n",
    "    check_lower = range(bbox[0]+1, 1, -zstride)\n",
    "    check_higher = range(bbox[3]-1, n_slices-1, zstride)\n",
    "    print \"Checking slices:\" check_lower, check_higher\n",
    "    for sslice_id in check_lower:\n",
    "        sslice = block_seg[sslice_id,:,:]\n",
    "        tslice = block_seg[sslice_id-zstride,:,:]\n",
    "        print \"On slice: %d\"%sslice_id\n",
    "        block_seg, bbox_dict = track_and_relabel(sslice, tslice, obj_id, \n",
    "                                                block_seg, bbox_dict)\n",
    "    for sslice_id in check_higher:\n",
    "        sslice = block_seg[sslice_id,:,:]\n",
    "        tslice = block_seg[sslice_id+zstride,:,:]\n",
    "        print \"On slice: %d\"%sslice_id\n",
    "        print \"On slice: %d\"%sslice_id\n",
    "        track_results = track_and_relabel(sslice, tslice, obj_id, \n",
    "                                          block_seg, bbox_dic, iou_thresh)\n",
    "        (track_success, block_seg, bbox_dict, iou) = track_results\n",
    "        "
   ]
  },
  {
   "cell_type": "code",
   "execution_count": null,
   "metadata": {},
   "outputs": [],
   "source": [
    "obj_id = 3628\n",
    "zstride = 1"
   ]
  }
 ],
 "metadata": {
  "kernelspec": {
   "display_name": "em",
   "language": "python",
   "name": "em"
  },
  "language_info": {
   "codemirror_mode": {
    "name": "ipython",
    "version": 2
   },
   "file_extension": ".py",
   "mimetype": "text/x-python",
   "name": "python",
   "nbconvert_exporter": "python",
   "pygments_lexer": "ipython2",
   "version": "2.7.15"
  }
 },
 "nbformat": 4,
 "nbformat_minor": 2
}
