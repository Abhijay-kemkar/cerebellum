{
 "cells": [
  {
   "cell_type": "markdown",
   "metadata": {},
   "source": [
    "Experiment to fix split errors within a block using skeletons"
   ]
  },
  {
   "cell_type": "code",
   "execution_count": 1,
   "metadata": {},
   "outputs": [
    {
     "name": "stderr",
     "output_type": "stream",
     "text": [
      "/home/srujanm/anaconda2/envs/em/lib/python2.7/site-packages/h5py/__init__.py:36: FutureWarning: Conversion of the second argument of issubdtype from `float` to `np.floating` is deprecated. In future, it will be treated as `np.float64 == np.dtype(float).type`.\n",
      "  from ._conv import register_converters as _register_converters\n"
     ]
    }
   ],
   "source": [
    "from cerebellum.data_prep.seg_prep import *\n",
    "from cerebellum.skeletonize import gen_skeletons\n",
    "from cerebellum.ibex.utilities.dataIO import ReadSkeletons\n",
    "from cerebellum.error_analysis.skel_segeval import SkelEval\n",
    "from cerebellum.error_analysis.voxel_segeval import VoxEval\n",
    "\n",
    "resolution = (30, 48, 48)\n",
    "output_resolution=(80, 80, 80) # skeleton resolution\n",
    "affinity_offset = 14 # affinity offset along z-axis\n",
    "block_size = 60\n",
    "wz_thresh = 0.5\n",
    "# set skeleton error analysis thresholds\n",
    "t_om = 0.9\n",
    "t_m = 0.5\n",
    "t_s = 0.8"
   ]
  },
  {
   "cell_type": "code",
   "execution_count": 2,
   "metadata": {},
   "outputs": [],
   "source": [
    "block_id = 0\n",
    "zz = block_id*block_size + affinity_offset\n",
    "block_name = \"waterz%.2f-48nm-crop2gt-%04d\"%(wz_thresh, zz)\n",
    "# block = SegPrep(block_name, resolution)\n",
    "stage_pre_relabel = \"filt-dsmpl\"\n",
    "stage_post_relabel = stage_pre_relabel+\"-relab\"\n",
    "# block.read_internal(stage=stage_pre_relabel)\n",
    "# block.relabel(use_bboxes=True)\n",
    "# block.write(stage=stage_post_relabel)"
   ]
  },
  {
   "cell_type": "code",
   "execution_count": 3,
   "metadata": {},
   "outputs": [],
   "source": [
    "# save skeletons to ./skeletons/<block_name>/. does not support saving separate skeletons for each stage yet\n",
    "# gen_skeletons(block_name, resolution, stage=stage_post_relabel, dsmpl_res=output_resolution, overwrite_prev=True)"
   ]
  },
  {
   "cell_type": "code",
   "execution_count": 4,
   "metadata": {
    "scrolled": true
   },
   "outputs": [],
   "source": [
    "skeletons = ReadSkeletons(block_name, downsample_resolution=output_resolution, read_edges=True)"
   ]
  },
  {
   "cell_type": "code",
   "execution_count": 15,
   "metadata": {
    "scrolled": true
   },
   "outputs": [
    {
     "name": "stdout",
     "output_type": "stream",
     "text": [
      "21607 has length: 1141.003138\n",
      "21607 endpoints: [[ 28 279 321]\n",
      " [ 58 276 324]]\n",
      "21607 endpoint vectors: [[-0.94868332  0.         -0.31622776]\n",
      " [ 0.94868332 -0.31622776  0.        ]]\n",
      "4544 has length: 819.800635\n",
      "4544 endpoints: [[  7 283 316]\n",
      " [ 10 278 315]\n",
      " [ 18 281 318]]\n",
      "4544 endpoint vectors: [[-0.89442718  0.44721359  0.        ]\n",
      " [-0.57735026 -0.57735026 -0.57735026]\n",
      " [ 0.70710677  0.          0.70710677]]\n",
      "4567 has length: 2119.512225\n",
      "4567 endpoints: [[ 52 281 321]\n",
      " [  7 291 319]\n",
      " [ 23 281 319]]\n",
      "4567 endpoint vectors: [[ 0.94868332 -0.31622776  0.        ]\n",
      " [-0.94868332  0.31622776  0.        ]\n",
      " [-0.31622776 -0.94868332  0.        ]]\n"
     ]
    }
   ],
   "source": [
    "# visualize known split skeletons\n",
    "#relmap = np.load('./segs/' + block_name + '/relabeling-map.npy')\n",
    "#pre_ids = [2461, 30296]\n",
    "#plot_ids = [np.argwhere(relmap==pre_id)[0][0] for pre_id in pre_ids]\n",
    "#print plot_ids\n",
    "plot_ids = [21607, 4544, 4567]\n",
    "\n",
    "from mpl_toolkits.mplot3d import Axes3D\n",
    "import matplotlib.pyplot as plt\n",
    "%matplotlib qt\n",
    "\n",
    "fig = plt.figure(figsize=(16,12))\n",
    "ax = Axes3D(fig)\n",
    "for pi in plot_ids:\n",
    "    print \"%d has length: %f\"%(pi, skeletons[pi].length())\n",
    "    nodes = skeletons[pi].get_nodes()\n",
    "    edges = skeletons[pi].get_edges()\n",
    "    eps, epvecs = skeletons[pi].get_endpoints()\n",
    "    print \"%d endpoints:\"%(pi), eps\n",
    "    print \"%d endpoint vectors:\"%(pi), epvecs\n",
    "    ax.scatter(nodes[:,2],nodes[:,1],nodes[:,0], s=10, c='r')\n",
    "    ax.set_xlim3d(0,skeletons[pi].grid_size[2])\n",
    "    ax.set_ylim3d(0,skeletons[pi].grid_size[1])\n",
    "    ax.set_zlim3d(0,skeletons[pi].grid_size[0])\n",
    "    for i in range(edges.shape[0]):\n",
    "        ln_x = [edges[i][0][2], edges[i][1][2]]\n",
    "        ln_y = [edges[i][0][1], edges[i][1][1]]\n",
    "        ln_z = [edges[i][0][0], edges[i][1][0]]\n",
    "        plt.plot(ln_x, ln_y, ln_z, 'b-')\n",
    "#         ax.quiver(eps[:,2],eps[:,1],eps[:,0],\n",
    "#                   epvecs[:,2],epvecs[:,1],epvecs[:,0],length=10,normalize=True)\n",
    "    plt.show()"
   ]
  },
  {
   "cell_type": "code",
   "execution_count": 16,
   "metadata": {},
   "outputs": [],
   "source": [
    "def skel_detector(skeletons, thresholds):\n",
    "    \"\"\"\n",
    "    Prescribes IDs of split skeletons to merge by tracking them along z-axis\n",
    "    \"\"\"\n",
    "    start_time = time.time()\n",
    "    min_len = thresholds[\"min-len\"]\n",
    "    max_len = thresholds[\"max-len\"]\n",
    "    # first stage\n",
    "    # get IDs of skeletons between requested length thresholds\n",
    "    sk_inspect = [sk.label for sk in skeletons if min_len<sk.length()<max_len and len(sk.endpoints)==2]\n",
    "    n_inspect = len(sk_inspect)\n",
    "    print \"Found %d skeletons to inspect out of %d in volume\"%(n_inspect, len(skeletons))\n",
    "#     # second stage\n",
    "#     # search through first stage labels and find split pairs\n",
    "#     for o_id in range(n_inpsect):\n",
    "#         o_eps, o_epvecs = skeletons[sk_inspect[o_id]].get_endpoints()\n",
    "#         for i_id in range(o_id, n_inpsect):\n",
    "#             i_eps, i_epvecs = skeletons[sk_inspect[i_id]].get_endpoints()\n",
    "#                 for ep, epvec in zip(eps, epvecs):\n",
    "#                     # skip spines\n",
    "#                     if np.array_equal(epvec, np.zeros(3)):\n",
    "#                         continue\n",
    "    print \"Split skeleton detection complete in %f s\"%(time.time()-start_time)\n",
    "    \n",
    "    return sk_inspect"
   ]
  },
  {
   "cell_type": "code",
   "execution_count": 28,
   "metadata": {},
   "outputs": [
    {
     "name": "stdout",
     "output_type": "stream",
     "text": [
      "Found 3773 skeletons to inspect out of 43300 in volume\n",
      "Split skeleton detection complete in 3.366117 s\n"
     ]
    }
   ],
   "source": [
    "block_extent = block_size*resolution[0]\n",
    "sk_threshes = {\"min-len\": 0.2*block_extent,\n",
    "               \"max-len\": 1.0*block_extent\n",
    "                }\n",
    "detected_sks = skel_detector(skeletons, sk_threshes)"
   ]
  },
  {
   "cell_type": "code",
   "execution_count": 29,
   "metadata": {},
   "outputs": [
    {
     "name": "stdout",
     "output_type": "stream",
     "text": [
      "[[False, False], [True, True, False, False], [True, False, False], [False, False, False, False, False], [True, True, False, False], [False, False], [False, False, False, False], [True, False], [True, False, False]]\n"
     ]
    }
   ],
   "source": [
    "# check for known splits\n",
    "gt_splits = [804, 388, 81, 861, 363, 84, 89, 91, 658] # feed in\n",
    "pred_splits = [sk_eval.sk_eval.gt2pred[gid].ids_out for gid in gt_splits] \n",
    "preds_caught = [([pid in detected_sks for pid in ps]) for ps in pred_splits]\n",
    "print len_caught"
   ]
  },
  {
   "cell_type": "code",
   "execution_count": 8,
   "metadata": {},
   "outputs": [
    {
     "name": "stdout",
     "output_type": "stream",
     "text": [
      "Starting error analysis of waterz0.50-48nm-crop2gt-0014 against skeletons of gt-48nm-60slices-0014\n",
      "Starting evaluation of 43300 labels in 60x540x489 predicted segmentation against 1003 GT skeletons\n",
      "Using error thresholds: t_om=0.90, t_m=0.50, t_s=0.80\n",
      "Skeleton evaluation time: 3.78245401382\n",
      "Results:\n",
      "3 omissions, 10 merges, 160 splits, 4 hybrid, 826 correct\n",
      "GT ERL: 2005, Prediction ERL: 1651\n",
      "GT TRL: 1742560, Prediction TRL: 1572320\n",
      "Omitted RL: 3839, Merged RL: 25897, Split RL: 140503\n",
      "Benchmarking against 557 error IDs and 826 correct IDs\n",
      "True positives: 176\n",
      "False positives: 45\n",
      "True negatives: 781\n",
      "False negatives: 381\n",
      "Precision: 0.796380\n",
      "Recall: 0.315978\n",
      "False pos: [4994, 4843, 3973, 10247, 4233, 2314, 3214, 2833, 3348, 3096, 3935, 2213, 2215, 4915, 2356, 2742, 4281, 3039, 4797, 4036, 4933, 3145, 3786, 2507, 4172, 3022, 2640, 12280, 3416, 2777, 2652, 2397, 2655, 2256, 4200, 4331, 2156, 3566, 26277, 3953, 2674, 2804, 3576, 3453, 2687]\n",
      "False neg: [10241, 4100, 36872, 2062, 36879, 2065, 4115, 2085, 36908, 12334, 2101, 2102, 30775, 22585, 4165, 2129, 2143, 4192, 4193, 4203, 2165, 24704, 24706, 4227, 4255, 8353, 24743, 24745, 2223, 22705, 4274, 24765, 35872, 4299, 2252, 2287, 2304, 2306, 2312, 4368, 2094, 2329, 2337, 2779, 2350, 2354, 2360, 2362, 2379, 2386, 2392, 2395, 2398, 2399, 4448, 2406, 4462, 4473, 2427, 2428, 2432, 18820, 2440, 29073, 2451, 4505, 35228, 2468, 2469, 4520, 2474, 14767, 28111, 2496, 18888, 16847, 4567, 2522, 4572, 2527, 2541, 501, 4606, 4610, 2563, 37385, 11694, 12825, 2598, 38663, 2615, 2618, 2627, 33353, 4694, 29274, 2667, 8815, 4728, 12933, 4745, 2704, 2706, 2728, 2729, 4782, 2735, 21170, 2740, 2741, 2752, 8900, 25307, 2782, 23263, 736, 21231, 29436, 2814, 4870, 3543, 2838, 4570, 21280, 21285, 6950, 21289, 21296, 2869, 21307, 21308, 21312, 33601, 4938, 33611, 33612, 33617, 2898, 33622, 21346, 33635, 21349, 21353, 33642, 33643, 19310, 33648, 2930, 3902, 28126, 21370, 11135, 33667, 2950, 21389, 33689, 19354, 33693, 21407, 33696, 33699, 33702, 33704, 21418, 21427, 21430, 3004, 39870, 33728, 21442, 21324, 3019, 21452, 33747, 21461, 31707, 3036, 21473, 35810, 33767, 3055, 11248, 5112, 33786, 33789, 5118, 3075, 3076, 21520, 3091, 3092, 11287, 33816, 21529, 35870, 33824, 3110, 33834, 3118, 21554, 33843, 21558, 1092, 23622, 33866, 15445, 3161, 9743, 15452, 37981, 17502, 3176, 35946, 21612, 3192, 3194, 3201, 3202, 17540, 9351, 3209, 5263, 23696, 38036, 3222, 3225, 9374, 21360, 3236, 15528, 29878, 23737, 21692, 23746, 3269, 3272, 3277, 3279, 3289, 27873, 15601, 34038, 3321, 23806, 23811, 17670, 15625, 34058, 23837, 3361, 3365, 17706, 3373, 40249, 23872, 3408, 23891, 23908, 23931, 36235, 23958, 30276, 1437, 3499, 30126, 3505, 36278, 3521, 30151, 30152, 30155, 3533, 3534, 3535, 30161, 28114, 30167, 28120, 36318, 13791, 3554, 9699, 3564, 24053, 28150, 28163, 3596, 3599, 3602, 1571, 3621, 11821, 26164, 3638, 1596, 3650, 1604, 28232, 1611, 3665, 11862, 3679, 3680, 13922, 3687, 28264, 3693, 21438, 28278, 1660, 3712, 3713, 1671, 3723, 31682, 1678, 1686, 3741, 9886, 3748, 3756, 5818, 3771, 3777, 1731, 30413, 3793, 3804, 3807, 4053, 3822, 3830, 34552, 3835, 3029, 3847, 3848, 36617, 3850, 3857, 7954, 3865, 15609, 34607, 16187, 38718, 16191, 34625, 42820, 3910, 3916, 28302, 3929, 42844, 42846, 34657, 16234, 16236, 3949, 16242, 16246, 1924, 26505, 38796, 42902, 3056, 36789, 34742, 25668, 32701, 36802, 36806, 34761, 4047, 2000, 42965, 36824, 2009, 2010, 4070, 2038]\n"
     ]
    },
    {
     "data": {
      "text/plain": [
       "(0.7963800904977375, 0.31597845601436264)"
      ]
     },
     "execution_count": 8,
     "metadata": {},
     "output_type": "execute_result"
    }
   ],
   "source": [
    "# benchmark against results from GT skeleton error analysis\n",
    "gt_block_name = \"gt-48nm-%dslices-%04d\"%(block_size, zz)\n",
    "sk_eval = SkelEval(gt_block_name, block_name, stage=stage_post_relabel, \n",
    "                   t_om=t_om, t_m=t_m, t_s=t_s, \n",
    "                   include_zero_split=False, include_zero_merge=True,\n",
    "                   overwrite_prev=True)\n",
    "sk_eval.pr_analysis(detected_sks, \"split\")"
   ]
  },
  {
   "cell_type": "code",
   "execution_count": 18,
   "metadata": {},
   "outputs": [
    {
     "data": {
      "text/plain": [
       "[2474, 33712]"
      ]
     },
     "execution_count": 18,
     "metadata": {},
     "output_type": "execute_result"
    }
   ],
   "source": []
  },
  {
   "cell_type": "code",
   "execution_count": null,
   "metadata": {},
   "outputs": [],
   "source": []
  }
 ],
 "metadata": {
  "kernelspec": {
   "display_name": "em",
   "language": "python",
   "name": "em"
  },
  "language_info": {
   "codemirror_mode": {
    "name": "ipython",
    "version": 2
   },
   "file_extension": ".py",
   "mimetype": "text/x-python",
   "name": "python",
   "nbconvert_exporter": "python",
   "pygments_lexer": "ipython2",
   "version": "2.7.15"
  }
 },
 "nbformat": 4,
 "nbformat_minor": 2
}
