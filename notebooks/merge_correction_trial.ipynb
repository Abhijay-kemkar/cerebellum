{
 "cells": [
  {
   "cell_type": "markdown",
   "metadata": {},
   "source": [
    "This notebook shows proof-of-principle merge correction on two falsely merged parallel fibers implemented in the `error_correction` module. The method is based on racking connected components from slice ot slice using an estimate for the flow vector from the object skeleton.. Merge correction works best on the segmentation with highest lateral resolution, in our case 8 nm x 8 nm x 30 nm."
   ]
  },
  {
   "cell_type": "code",
   "execution_count": 1,
   "metadata": {},
   "outputs": [
    {
     "name": "stderr",
     "output_type": "stream",
     "text": [
      "/home/srujanm/anaconda2/envs/em/lib/python2.7/site-packages/h5py/__init__.py:36: FutureWarning: Conversion of the second argument of issubdtype from `float` to `np.floating` is deprecated. In future, it will be treated as `np.float64 == np.dtype(float).type`.\n",
      "  from ._conv import register_converters as _register_converters\n"
     ]
    },
    {
     "name": "stdout",
     "output_type": "stream",
     "text": [
      "(90, 3198, 2930)\n"
     ]
    }
   ],
   "source": [
    "from cerebellum.utils.data_io import *\n",
    "import json\n",
    "\n",
    "# json file with segmentation params and file locations\n",
    "with open('data_locs.json') as f:\n",
    "\tdata_locs = json.load(f)\n",
    "block_index = 0 # TO CHANGE: which block you are processing\n",
    "zz = data_locs[\"block-size\"]*block_index+14\n",
    "\n",
    "# load segmentation\n",
    "seg_prefix = 'pred-pf-8nm-crop2gt-%04d'%(zz) # folder with segmentation\n",
    "seg_res = (30,8,8)\n",
    "seg_file = './segs/'+seg_prefix+'/seg.h5'\n",
    "seg = read3d_h5(seg_file,'main') # load segmentation\n",
    "print seg.shape\n",
    "\n",
    "# load skeletons\n",
    "from cerebellum.ibex.utilities.dataIO import ReadSkeletons\n",
    "skel_prefix = \"pred-all\" # folder with skeletons\n",
    "output_resolution=(80,80,80) # downsampled resolution before skeletonization\n",
    "skeletons = ReadSkeletons(skel_prefix, downsample_resolution=output_resolution, read_edges=True)"
   ]
  },
  {
   "cell_type": "code",
   "execution_count": 2,
   "metadata": {},
   "outputs": [
    {
     "name": "stdout",
     "output_type": "stream",
     "text": [
      "(90, 156, 136)\n",
      "(0L, 189L, 1791L, 90L, 345L, 1927L)\n"
     ]
    }
   ],
   "source": [
    "test_id = 2252 # TO CHANGE: ID of a falsely merged object\n",
    "\n",
    "# generate object mask\n",
    "from cerebellum.utils.mask import *\n",
    "shape_mask, bbox = mask_in_bbox(seg, test_id)\n",
    "print shape_mask.shape\n",
    "print bbox\n",
    "# get skeleton of object to be corrected\n",
    "skel = skeletons[test_id]"
   ]
  },
  {
   "cell_type": "code",
   "execution_count": 3,
   "metadata": {
    "scrolled": true
   },
   "outputs": [],
   "source": [
    "# initiaize merge correction\n",
    "from cerebellum.error_correction.split_obj import *\n",
    "test_split = SplitObject(shape_mask, seg_res, bbox, skel)"
   ]
  },
  {
   "cell_type": "markdown",
   "metadata": {},
   "source": [
    "As a first step go through each slice and label the connected components"
   ]
  },
  {
   "cell_type": "code",
   "execution_count": 4,
   "metadata": {},
   "outputs": [
    {
     "data": {
      "image/png": "[encoded data removed]",
      "text/plain": [
       "<Figure size 432x288 with 1 Axes>"
      ]
     },
     "metadata": {},
     "output_type": "display_data"
    }
   ],
   "source": [
    "# generate connected components per slice\n",
    "fpath = './err-correction/'+seg_prefix # save all error correction results to this folder\n",
    "create_folder(fpath)\n",
    "label_path = fpath+'/labeled-obj-mask-8nm-%d/'%(test_id)+'/'\n",
    "create_folder(label_path)\n",
    "test_split.label_slices(connectivity=2, \n",
    "                        save_plots_path=label_path)\n",
    "test_split.plot_ncc()"
   ]
  },
  {
   "cell_type": "markdown",
   "metadata": {},
   "source": [
    "Based on the above plot, the method then identifies \"fill neighborhoods\", i.e. intervals of slice indices where correction needs to be performed, and slices need to be filled with the correct color. The direction of tracking is from the left slice ID in the neighborhood to the right slice ID generated below, and is such that the left slice has more connectd components in it."
   ]
  },
  {
   "cell_type": "code",
   "execution_count": 5,
   "metadata": {},
   "outputs": [
    {
     "name": "stdout",
     "output_type": "stream",
     "text": [
      "[[67, 0], [72, 73], [75, 74], [82, 89]]\n"
     ]
    }
   ],
   "source": [
    "# generate fill neighborhoods\n",
    "test_split.find_fill_nbds()\n",
    "print test_split.fill_nbds"
   ]
  },
  {
   "cell_type": "markdown",
   "metadata": {},
   "source": [
    "Here, we visualize one step of the split procedure going from a correct slice (the 'pivot slice') to the incorrect slice (the 'fill slice')"
   ]
  },
  {
   "cell_type": "code",
   "execution_count": 6,
   "metadata": {},
   "outputs": [
    {
     "name": "stdout",
     "output_type": "stream",
     "text": [
      "Pivot points for propagation: [array([ 56, 105]), array([74, 83]), array([101,  88])]\n",
      "Flow vectors: [[1.0, 0.3333333333333333, -0.6666666666666666], [1.0, 0.3333333333333333, -0.6666666666666666], [1.0, 0.3333333333333333, -0.6666666666666666]]\n",
      "Seed locs: [(56, 104), (74, 82), (101, 87)]\n",
      "Warning: Skel-flow seed(s) generated in empty region of fill slice. Fill slice will have 2 CCs instead of requested 3 CCs\n"
     ]
    },
    {
     "name": "stderr",
     "output_type": "stream",
     "text": [
      "cerebellum/error_correction/skel_flow.py:33: RuntimeWarning: divide by zero encountered in divide\n",
      "  edge_vecs = [np.divide(edge_vec, float(edge_vec[0])) for edge_vec in edge_vecs] # normalize such that z-comp is 1\n",
      "cerebellum/error_correction/skel_flow.py:33: RuntimeWarning: invalid value encountered in divide\n",
      "  edge_vecs = [np.divide(edge_vec, float(edge_vec[0])) for edge_vec in edge_vecs] # normalize such that z-comp is 1\n"
     ]
    },
    {
     "data": {
      "image/png": "[encoded data removed]",
      "text/plain": [
       "<Figure size 1080x1080 with 3 Axes>"
      ]
     },
     "metadata": {},
     "output_type": "display_data"
    }
   ],
   "source": [
    "# test split_slice individually\n",
    "from cerebellum.error_correction.split_slice import *\n",
    "\n",
    "pivot_id = 82 # correct slice\n",
    "f = 1 # flow dir\n",
    "fill_id = pivot_id + f # ID of slice to work on\n",
    "filled_slice, filled_ccs = test_split.propagate_slice(pivot_id, fill_id, plot_seeds=True)"
   ]
  },
  {
   "cell_type": "markdown",
   "metadata": {},
   "source": [
    "In this manner, you can iterate through each fill neighborhood and split up the object. Images of slices corrected in the operation below are saved for debugging."
   ]
  },
  {
   "cell_type": "code",
   "execution_count": 7,
   "metadata": {},
   "outputs": [
    {
     "name": "stdout",
     "output_type": "stream",
     "text": [
      "\n",
      "\n",
      "\n",
      "76 slices left to fill\n",
      "\n",
      "\n",
      "Inspecting neighborhood: [67, 0]\n",
      "\n",
      "Tracking 67 and splitting 66 into 3 CCs\n",
      "Pivot points for propagation: [array([ 71, 117]), array([86, 96]), array([114,  95])]\n",
      "Flow vectors: [[1.0, 0.3333333333333333, -0.6666666666666666], [1.0, 0.3333333333333333, -0.6666666666666666], [1.0, 0.3333333333333333, -0.6666666666666666]]\n",
      "Seed locs: [(70, 117), (85, 96), (113, 95)]\n",
      "\n",
      "Tracking 66 and splitting 65 into 3 CCs\n",
      "Pivot points for propagation: [array([ 66, 122]), array([90, 98]), array([116,  96])]\n",
      "Flow vectors: [[1.0, 0.3333333333333333, -0.6666666666666666], [1.0, 0.3333333333333333, -0.6666666666666666], [1.0, 0.3333333333333333, -0.6666666666666666]]\n",
      "Seed locs: [(65, 122), (89, 98), (115, 96)]\n",
      "\n",
      "Tracking 65 and splitting 64 into 3 CCs\n",
      "Pivot points for propagation: [array([ 66, 122]), array([90, 98]), array([116,  96])]\n",
      "Flow vectors: [[1.0, 0.3333333333333333, -0.6666666666666666], [1.0, 0.3333333333333333, -0.6666666666666666], [1.0, 0.3333333333333333, -0.6666666666666666]]\n",
      "Seed locs: [(65, 122), (89, 98), (115, 96)]\n",
      "\n",
      "Tracking 64 and splitting 63 into 3 CCs\n",
      "Pivot points for propagation: [array([ 84, 116]), array([92, 99]), array([114, 100])]\n",
      "Flow vectors: [[1.0, 0.3333333333333333, -0.6666666666666666], [1.0, 0.3333333333333333, -0.6666666666666666], [1.0, 0.3333333333333333, -0.6666666666666666]]\n",
      "Seed locs: [(83, 116), (91, 99), (113, 100)]\n",
      "\n",
      "Tracking 63 and splitting 62 into 3 CCs\n",
      "Pivot points for propagation: [array([ 84, 116]), array([92, 99]), array([114, 100])]\n",
      "Flow vectors: [[1.0, 0.3333333333333333, -0.6666666666666666], [1.0, 0.3333333333333333, -0.6666666666666666], [1.0, 0.3333333333333333, -0.6666666666666666]]\n",
      "Seed locs: [(83, 116), (91, 99), (113, 100)]\n",
      "Warning: Skel-flow seed(s) generated in empty region of fill slice. Fill slice will have 2 CCs instead of requested 3 CCs\n",
      "Filling terminated at slice 62\n",
      "\n",
      "\n",
      "Inspecting neighborhood: [72, 73]\n",
      "\n",
      "Tracking 72 and splitting 73 into 3 CCs\n",
      "Pivot points for propagation: [array([ 65, 114]), array([80, 92]), array([110,  93])]\n",
      "Flow vectors: [[1.0, 0.3333333333333333, -0.6666666666666666], [1.0, 0.3333333333333333, -0.6666666666666666], [1.0, 0.3333333333333333, -0.6666666666666666]]\n",
      "Seed locs: [(65, 113), (80, 91), (110, 92)]\n",
      "\n",
      "\n",
      "Inspecting neighborhood: [75, 74]\n",
      "\n",
      "Tracking 75 and splitting 74 into 3 CCs\n",
      "Pivot points for propagation: [array([ 65, 111]), array([78, 93]), array([107,  93])]\n",
      "Flow vectors: [[1.0, 0.3333333333333333, -0.6666666666666666], [1.0, 0.3333333333333333, -0.6666666666666666], [1.0, 0.3333333333333333, -0.6666666666666666]]\n",
      "Seed locs: [(64, 111), (77, 93), (106, 93)]\n",
      "\n",
      "\n",
      "Inspecting neighborhood: [82, 89]\n",
      "\n",
      "Tracking 82 and splitting 83 into 3 CCs\n",
      "Pivot points for propagation: [array([ 56, 105]), array([74, 83]), array([101,  88])]\n",
      "Flow vectors: [[1.0, 0.3333333333333333, -0.6666666666666666], [1.0, 0.3333333333333333, -0.6666666666666666], [1.0, 0.3333333333333333, -0.6666666666666666]]\n",
      "Seed locs: [(56, 104), (74, 82), (101, 87)]\n",
      "Warning: Skel-flow seed(s) generated in empty region of fill slice. Fill slice will have 2 CCs instead of requested 3 CCs\n",
      "Filling terminated at slice 83\n",
      "\n",
      "\n",
      "Finished one round of correction. Recalculating fill neighborhoods\n",
      "\n",
      "\n",
      "\n",
      "68 slices left to fill\n",
      "\n",
      "\n",
      "Inspecting neighborhood: [62, 0]\n",
      "\n",
      "Tracking 59 and splitting 58 into 2 CCs\n",
      "Pivot points for propagation: [array([ 75, 123]), array([117,  99])]\n",
      "Flow vectors: [[1.0, 0.3333333333333333, -0.6666666666666666], [1.0, 0.3333333333333333, -0.6666666666666666]]\n",
      "Seed locs: [(74, 123), (116, 99)]\n",
      "\n",
      "Tracking 58 and splitting 57 into 2 CCs\n",
      "Pivot points for propagation: [array([ 80, 121]), array([119,  98])]\n",
      "Flow vectors: [[1.0, -0.0, -0.0], [1.0, -0.0, -0.0]]\n",
      "Seed locs: [(80, 121), (119, 98)]\n",
      "\n",
      "Tracking 57 and splitting 56 into 2 CCs\n",
      "Pivot points for propagation: [array([ 80, 121]), array([119,  98])]\n",
      "Flow vectors: [[1.0, -0.0, -0.0], [1.0, -0.0, -0.0]]\n",
      "Seed locs: [(80, 121), (119, 98)]\n",
      "\n",
      "Tracking 55 and splitting 54 into 2 CCs\n",
      "Pivot points for propagation: [array([ 82, 120]), array([121,  97])]\n",
      "Flow vectors: [[1.0, 0.3333333333333333, -0.6666666666666666], [1.0, 0.3333333333333333, -0.6666666666666666]]\n",
      "Seed locs: [(81, 120), (120, 97)]\n",
      "\n",
      "Tracking 54 and splitting 53 into 2 CCs\n",
      "Pivot points for propagation: [array([ 91, 112]), array([119,  98])]\n",
      "Flow vectors: [[1.0, 0.3333333333333333, -0.6666666666666666], [1.0, 0.3333333333333333, -0.6666666666666666]]\n",
      "Seed locs: [(90, 112), (118, 98)]\n",
      "\n",
      "Tracking 39 and splitting 38 into 2 CCs\n",
      "Pivot points for propagation: [array([102, 102]), array([131,  91])]\n",
      "Flow vectors: [[1.0, -1.0, 1.0], [1.0, -1.0, 1.0]]\n",
      "Seed locs: [(103, 101), (132, 90)]\n",
      "\n",
      "\n",
      "Inspecting neighborhood: [83, 89]\n",
      "\n",
      "\n",
      "Finished one round of correction. Recalculating fill neighborhoods\n",
      "\n",
      "\n",
      "\n",
      "Object filling complete after 2 rounds of filling\n"
     ]
    }
   ],
   "source": [
    "split_path = fpath + '/split-obj-mask-8nm-%d/'%(test_id) + '/' # save results\n",
    "create_folder(split_path)\n",
    "test_split.fill_object(save_path=split_path)"
   ]
  },
  {
   "cell_type": "code",
   "execution_count": null,
   "metadata": {},
   "outputs": [],
   "source": []
  }
 ],
 "metadata": {
  "kernelspec": {
   "display_name": "em",
   "language": "python",
   "name": "em"
  },
  "language_info": {
   "codemirror_mode": {
    "name": "ipython",
    "version": 2
   },
   "file_extension": ".py",
   "mimetype": "text/x-python",
   "name": "python",
   "nbconvert_exporter": "python",
   "pygments_lexer": "ipython2",
   "version": "2.7.15"
  }
 },
 "nbformat": 4,
 "nbformat_minor": 2
}
